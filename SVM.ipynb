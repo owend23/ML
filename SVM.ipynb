{
  "nbformat": 4,
  "nbformat_minor": 0,
  "metadata": {
    "colab": {
      "name": "SVM.ipynb",
      "provenance": [],
      "authorship_tag": "ABX9TyME4jv/7FqswoLiVm3woFqj",
      "include_colab_link": true
    },
    "kernelspec": {
      "name": "python3",
      "display_name": "Python 3"
    },
    "language_info": {
      "name": "python"
    }
  },
  "cells": [
    {
      "cell_type": "markdown",
      "metadata": {
        "id": "view-in-github",
        "colab_type": "text"
      },
      "source": [
        "<a href=\"https://colab.research.google.com/github/owend23/ML/blob/main/SVM.ipynb\" target=\"_parent\"><img src=\"https://colab.research.google.com/assets/colab-badge.svg\" alt=\"Open In Colab\"/></a>"
      ]
    },
    {
      "cell_type": "markdown",
      "metadata": {
        "id": "86idnMQngq1b"
      },
      "source": [
        "# SVM\n",
        "* looks to create a hyperplane, which divides your data points\n",
        "* requirements are that you find where the hyperplane is the two closest points to the line\n",
        "* use kernels to clean dataset where a hyperplane cant be drawn, by bringing the two dimensional data into three dimensions\n",
        "* kernel: f(x1, x2) -> x3 turns it to a higher dimension the third coordinate for your points.\n",
        "* if this doesnt work you repeat the process adding a fourth dimension to your data\n",
        "* used for classification"
      ]
    },
    {
      "cell_type": "code",
      "metadata": {
        "id": "V4qnuESGe4Q2"
      },
      "source": [
        "import sklearn\n",
        "from sklearn import datasets\n",
        "from sklearn import svm\n",
        "from sklearn import metrics\n",
        "from sklearn.neighbors import KNeighborsClassifier"
      ],
      "execution_count": 13,
      "outputs": []
    },
    {
      "cell_type": "code",
      "metadata": {
        "id": "pOyNe-K9fN5-"
      },
      "source": [
        "cancer = datasets.load_breast_cancer()"
      ],
      "execution_count": 14,
      "outputs": []
    },
    {
      "cell_type": "code",
      "metadata": {
        "colab": {
          "base_uri": "https://localhost:8080/"
        },
        "id": "8bWZMLEofmJR",
        "outputId": "cf41a9b5-fec6-458b-de02-d71066ca4f3b"
      },
      "source": [
        "print(cancer.feature_names)\n",
        "print(cancer.target_names)"
      ],
      "execution_count": 15,
      "outputs": [
        {
          "output_type": "stream",
          "text": [
            "['mean radius' 'mean texture' 'mean perimeter' 'mean area'\n",
            " 'mean smoothness' 'mean compactness' 'mean concavity'\n",
            " 'mean concave points' 'mean symmetry' 'mean fractal dimension'\n",
            " 'radius error' 'texture error' 'perimeter error' 'area error'\n",
            " 'smoothness error' 'compactness error' 'concavity error'\n",
            " 'concave points error' 'symmetry error' 'fractal dimension error'\n",
            " 'worst radius' 'worst texture' 'worst perimeter' 'worst area'\n",
            " 'worst smoothness' 'worst compactness' 'worst concavity'\n",
            " 'worst concave points' 'worst symmetry' 'worst fractal dimension']\n",
            "['malignant' 'benign']\n"
          ],
          "name": "stdout"
        }
      ]
    },
    {
      "cell_type": "code",
      "metadata": {
        "id": "T8M_oiGKfxq2"
      },
      "source": [
        "x = cancer.data\n",
        "y = cancer.target"
      ],
      "execution_count": 16,
      "outputs": []
    },
    {
      "cell_type": "code",
      "metadata": {
        "id": "_khXr58YgBNZ"
      },
      "source": [
        "x_train, x_test, y_train, y_test = sklearn.model_selection.train_test_split(x, y, test_size=0.2)"
      ],
      "execution_count": 17,
      "outputs": []
    },
    {
      "cell_type": "code",
      "metadata": {
        "colab": {
          "base_uri": "https://localhost:8080/"
        },
        "id": "_qzPb9qvgLTT",
        "outputId": "b3af3364-e265-477b-a538-ba9bbf16b4e1"
      },
      "source": [
        "print(x_train, y_train)\n",
        "classes = ['malignant' 'benign']"
      ],
      "execution_count": 18,
      "outputs": [
        {
          "output_type": "stream",
          "text": [
            "[[1.180e+01 1.726e+01 7.526e+01 ... 5.356e-02 2.779e-01 8.121e-02]\n",
            " [1.916e+01 2.660e+01 1.262e+02 ... 1.872e-01 3.258e-01 9.720e-02]\n",
            " [1.246e+01 2.404e+01 8.397e+01 ... 2.210e-01 4.366e-01 2.075e-01]\n",
            " ...\n",
            " [9.904e+00 1.806e+01 6.460e+01 ... 9.910e-02 2.614e-01 1.162e-01]\n",
            " [1.441e+01 1.973e+01 9.603e+01 ... 1.021e-01 2.272e-01 8.799e-02]\n",
            " [1.678e+01 1.880e+01 1.093e+02 ... 1.474e-01 2.810e-01 7.228e-02]] [1 0 0 1 1 1 1 1 1 0 1 1 0 0 0 0 1 1 1 1 0 1 1 1 0 0 0 1 0 1 1 0 1 1 0 0 0\n",
            " 1 0 0 1 1 1 1 0 1 0 1 0 1 1 1 1 0 1 1 1 0 1 1 0 0 0 1 1 1 1 1 1 1 0 0 1 0\n",
            " 1 1 1 0 0 0 0 1 1 0 1 0 0 1 1 1 0 1 1 0 1 0 1 0 1 1 1 0 1 0 0 1 1 1 1 1 1\n",
            " 0 0 1 1 0 0 1 1 0 0 1 1 1 1 0 1 1 1 0 1 1 1 0 0 1 1 1 1 0 1 1 1 0 0 1 0 1\n",
            " 1 1 0 1 1 1 1 0 0 1 1 1 1 1 1 1 1 0 0 0 1 1 1 1 0 1 1 1 0 1 1 1 1 0 1 1 1\n",
            " 1 1 0 0 1 1 0 1 1 1 0 1 0 1 1 1 1 1 0 1 1 1 1 1 1 1 1 0 0 1 1 1 1 0 1 1 0\n",
            " 0 1 0 1 1 1 1 1 0 1 1 0 1 1 1 0 1 0 1 0 0 1 1 1 0 0 0 0 1 1 0 1 0 0 0 0 0\n",
            " 1 0 0 1 1 1 0 0 1 1 0 0 0 1 0 0 0 1 0 1 0 1 0 0 1 1 0 1 1 1 0 1 0 1 0 0 1\n",
            " 1 1 1 0 1 0 1 0 0 1 1 0 1 1 0 1 1 1 1 1 1 0 0 0 1 0 0 1 1 1 1 0 1 1 0 0 1\n",
            " 1 0 1 0 0 1 0 0 1 1 0 1 0 0 1 0 0 0 0 1 0 0 1 1 1 1 0 0 1 0 0 1 1 1 0 1 1\n",
            " 1 1 0 0 1 1 0 1 1 1 1 0 1 1 1 0 0 1 1 0 1 1 1 1 0 1 1 1 1 0 0 0 0 1 1 1 0\n",
            " 0 0 1 0 1 1 1 0 1 0 0 1 1 0 1 0 1 0 1 1 1 1 1 1 1 0 1 1 0 1 1 0 1 1 1 1 1\n",
            " 1 1 1 0 1 1 0 0 1 1 0]\n"
          ],
          "name": "stdout"
        }
      ]
    },
    {
      "cell_type": "code",
      "metadata": {
        "colab": {
          "base_uri": "https://localhost:8080/"
        },
        "id": "PkcuoVZEjw-J",
        "outputId": "f2a203c0-0d21-4d67-f38f-166508f72c4d"
      },
      "source": [
        "clf = svm.SVC(kernel='linear')\n",
        "clf.fit(x_train, y_train)"
      ],
      "execution_count": 71,
      "outputs": [
        {
          "output_type": "execute_result",
          "data": {
            "text/plain": [
              "SVC(C=1.0, break_ties=False, cache_size=200, class_weight=None, coef0=0.0,\n",
              "    decision_function_shape='ovr', degree=3, gamma='scale', kernel='linear',\n",
              "    max_iter=-1, probability=False, random_state=None, shrinking=True,\n",
              "    tol=0.001, verbose=False)"
            ]
          },
          "metadata": {
            "tags": []
          },
          "execution_count": 71
        }
      ]
    },
    {
      "cell_type": "code",
      "metadata": {
        "id": "5c6ihzfykmB7"
      },
      "source": [
        "y_pred = clf.predict(x_test)"
      ],
      "execution_count": 72,
      "outputs": []
    },
    {
      "cell_type": "code",
      "metadata": {
        "id": "eQkpG57Pko0d"
      },
      "source": [
        "acc = metrics.accuracy_score(y_test, y_pred)"
      ],
      "execution_count": 73,
      "outputs": []
    },
    {
      "cell_type": "code",
      "metadata": {
        "colab": {
          "base_uri": "https://localhost:8080/"
        },
        "id": "IUrokrt5kvA9",
        "outputId": "fc85c9c0-05d9-4519-cd09-4fbc82440ce5"
      },
      "source": [
        "print(acc)"
      ],
      "execution_count": 74,
      "outputs": [
        {
          "output_type": "stream",
          "text": [
            "0.9736842105263158\n"
          ],
          "name": "stdout"
        }
      ]
    },
    {
      "cell_type": "code",
      "metadata": {
        "id": "SW9P-t5wkw0z"
      },
      "source": [
        ""
      ],
      "execution_count": null,
      "outputs": []
    }
  ]
}