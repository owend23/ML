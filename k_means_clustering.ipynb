{
  "nbformat": 4,
  "nbformat_minor": 0,
  "metadata": {
    "colab": {
      "name": "k_means_clustering.ipynb",
      "provenance": [],
      "authorship_tag": "ABX9TyODhENlJVXWK2E8yJJviLwV",
      "include_colab_link": true
    },
    "kernelspec": {
      "name": "python3",
      "display_name": "Python 3"
    },
    "language_info": {
      "name": "python"
    }
  },
  "cells": [
    {
      "cell_type": "markdown",
      "metadata": {
        "id": "view-in-github",
        "colab_type": "text"
      },
      "source": [
        "<a href=\"https://colab.research.google.com/github/owend23/ML/blob/main/k_means_clustering.ipynb\" target=\"_parent\"><img src=\"https://colab.research.google.com/assets/colab-badge.svg\" alt=\"Open In Colab\"/></a>"
      ]
    },
    {
      "cell_type": "markdown",
      "metadata": {
        "id": "6ptoaZhBnKZL"
      },
      "source": [
        "# K Means Clustering\n",
        "* unsupervised learning\n",
        "* centroids: determine what cluster a given datapoint belongs to\n",
        "* each color on the graph represents a different class for the datapoints lying in that color\n",
        "* centroids decide how the datapoints get classified by the distance between the data point and the centroid\n",
        "* no of datapoints * no of centroids * no of iterations * no of features"
      ]
    },
    {
      "cell_type": "code",
      "metadata": {
        "id": "elgW-B8UpSFM"
      },
      "source": [
        "import numpy as np\n",
        "import sklearn\n",
        "from sklearn.preprocessing import scale\n",
        "from sklearn.datasets import load_digits\n",
        "from sklearn.cluster import KMeans\n",
        "from sklearn import metrics"
      ],
      "execution_count": 24,
      "outputs": []
    },
    {
      "cell_type": "code",
      "metadata": {
        "id": "4mcHycMdqLnD"
      },
      "source": [
        "digits = load_digits()\n",
        "data = scale(digits.data)\n",
        "y = digits.target\n"
      ],
      "execution_count": 25,
      "outputs": []
    },
    {
      "cell_type": "code",
      "metadata": {
        "id": "OD-08qTQqryq"
      },
      "source": [
        "k = 10\n",
        "samples, features = data.shape"
      ],
      "execution_count": 26,
      "outputs": []
    },
    {
      "cell_type": "code",
      "metadata": {
        "id": "CsfUTcx3rE3b"
      },
      "source": [
        "def bench_k_means(estimator, name, data):\n",
        "  estimator.fit(data)\n",
        "  print(\"%-9s\\t%i\\t%.3f\\t%.3f\\t%.3f\\t\\t%.3f\\t%.3f\\t%.3f\"\n",
        "        % (name, estimator.inertia_,\n",
        "           metrics.homogeneity_score(y, estimator.labels_),\n",
        "           metrics.completeness_score(y, estimator.labels_),\n",
        "           metrics.v_measure_score(y, estimator.labels_),\n",
        "           metrics.adjusted_rand_score(y, estimator.labels_),\n",
        "           metrics.adjusted_mutual_info_score(y, estimator.labels_),\n",
        "           metrics.silhouette_score(data, estimator.labels_,\n",
        "                                    metric='euclidean')))"
      ],
      "execution_count": 27,
      "outputs": []
    },
    {
      "cell_type": "code",
      "metadata": {
        "colab": {
          "base_uri": "https://localhost:8080/"
        },
        "id": "m85GZfLUry3Z",
        "outputId": "1bd19b30-7dde-479f-fad1-276c80d00101"
      },
      "source": [
        "clf = KMeans(n_clusters=k, init=\"random\", n_init=10)\n",
        "bench_k_means(clf, \"1\", data)"
      ],
      "execution_count": 28,
      "outputs": [
        {
          "output_type": "stream",
          "text": [
            "1        \t69432\t0.600\t0.649\t0.623\t\t0.464\t0.620\t0.144\n"
          ],
          "name": "stdout"
        }
      ]
    },
    {
      "cell_type": "code",
      "metadata": {
        "id": "ZAxhYE18sJGv"
      },
      "source": [
        ""
      ],
      "execution_count": null,
      "outputs": []
    }
  ]
}