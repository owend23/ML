{
  "nbformat": 4,
  "nbformat_minor": 0,
  "metadata": {
    "colab": {
      "name": "data_pipeline.ipynb",
      "provenance": [],
      "authorship_tag": "ABX9TyN5dzkBMdgc0NBMrWtbXHBC",
      "include_colab_link": true
    },
    "kernelspec": {
      "name": "python3",
      "display_name": "Python 3"
    },
    "language_info": {
      "name": "python"
    }
  },
  "cells": [
    {
      "cell_type": "markdown",
      "metadata": {
        "id": "view-in-github",
        "colab_type": "text"
      },
      "source": [
        "<a href=\"https://colab.research.google.com/github/owend23/ML/blob/main/data_pipeline.ipynb\" target=\"_parent\"><img src=\"https://colab.research.google.com/assets/colab-badge.svg\" alt=\"Open In Colab\"/></a>"
      ]
    },
    {
      "cell_type": "code",
      "metadata": {
        "colab": {
          "base_uri": "https://localhost:8080/"
        },
        "id": "0xMBETMlSOkM",
        "outputId": "cf334b92-fb26-45ec-d111-1113a902c088"
      },
      "source": [
        "from sklearn.datasets import samples_generator\n",
        "from sklearn.ensemble import RandomForestClassifier\n",
        "from sklearn.feature_selection import SelectKBest, f_regression\n",
        "from sklearn.pipeline import Pipeline"
      ],
      "execution_count": 1,
      "outputs": [
        {
          "output_type": "stream",
          "text": [
            "/usr/local/lib/python3.7/dist-packages/sklearn/utils/deprecation.py:144: FutureWarning: The sklearn.datasets.samples_generator module is  deprecated in version 0.22 and will be removed in version 0.24. The corresponding classes / functions should instead be imported from sklearn.datasets. Anything that cannot be imported from sklearn.datasets is now part of the private API.\n",
            "  warnings.warn(message, FutureWarning)\n"
          ],
          "name": "stderr"
        }
      ]
    },
    {
      "cell_type": "code",
      "metadata": {
        "id": "0DHmQzJUS0HM"
      },
      "source": [
        "# generate sample data\n",
        "X, y = samples_generator.make_classification(\n",
        "    n_informative=4, n_features=20, n_redundant=0,\n",
        "    random_state=5)"
      ],
      "execution_count": 2,
      "outputs": []
    },
    {
      "cell_type": "code",
      "metadata": {
        "id": "0ZkVkyjuTEWk"
      },
      "source": [
        "# Feature selector\n",
        "selector_k_best = SelectKBest(f_regression, k=10)"
      ],
      "execution_count": 3,
      "outputs": []
    },
    {
      "cell_type": "code",
      "metadata": {
        "id": "93WTIVqsTM5j"
      },
      "source": [
        "# Random forest classifier\n",
        "classifier = RandomForestClassifier(n_estimators=50, max_depth=4)"
      ],
      "execution_count": 8,
      "outputs": []
    },
    {
      "cell_type": "code",
      "metadata": {
        "id": "fGmpPmceTSxS"
      },
      "source": [
        "# Build the machine learning pipeline\n",
        "pipeline_classifier = Pipeline([('selector', selector_k_best),\n",
        "                                ('rf', classifier)])"
      ],
      "execution_count": 10,
      "outputs": []
    },
    {
      "cell_type": "code",
      "metadata": {
        "colab": {
          "base_uri": "https://localhost:8080/"
        },
        "id": "8CosFVZgTe1x",
        "outputId": "33e2f973-8b8c-40ca-9536-0eb83cfc446b"
      },
      "source": [
        "# Training the classifier\n",
        "pipeline_classifier.fit(X, y)"
      ],
      "execution_count": 11,
      "outputs": [
        {
          "output_type": "execute_result",
          "data": {
            "text/plain": [
              "Pipeline(memory=None,\n",
              "         steps=[('selector',\n",
              "                 SelectKBest(k=10,\n",
              "                             score_func=<function f_regression at 0x7f1a83dd2170>)),\n",
              "                ('rf',\n",
              "                 RandomForestClassifier(bootstrap=True, ccp_alpha=0.0,\n",
              "                                        class_weight=None, criterion='gini',\n",
              "                                        max_depth=4, max_features='auto',\n",
              "                                        max_leaf_nodes=None, max_samples=None,\n",
              "                                        min_impurity_decrease=0.0,\n",
              "                                        min_impurity_split=None,\n",
              "                                        min_samples_leaf=1, min_samples_split=2,\n",
              "                                        min_weight_fraction_leaf=0.0,\n",
              "                                        n_estimators=50, n_jobs=None,\n",
              "                                        oob_score=False, random_state=None,\n",
              "                                        verbose=0, warm_start=False))],\n",
              "         verbose=False)"
            ]
          },
          "metadata": {
            "tags": []
          },
          "execution_count": 11
        }
      ]
    },
    {
      "cell_type": "code",
      "metadata": {
        "colab": {
          "base_uri": "https://localhost:8080/"
        },
        "id": "e4-sdAo9YMhS",
        "outputId": "003cb911-ea2f-42b4-f986-8567cbf194b3"
      },
      "source": [
        "prediction = pipeline_classifier.predict(X)\n",
        "print(\"Predictions:\\n\", prediction)"
      ],
      "execution_count": 13,
      "outputs": [
        {
          "output_type": "stream",
          "text": [
            "Predictions:\n",
            " [1 1 0 1 0 0 0 0 1 0 1 1 0 1 1 0 0 1 0 0 0 0 0 1 0 1 0 0 0 1 0 0 0 1 0 0 1\n",
            " 1 1 1 1 1 1 1 1 1 0 1 1 0 1 1 0 1 0 1 1 0 0 0 1 1 1 0 0 1 0 0 0 1 1 0 0 1\n",
            " 1 0 0 0 0 0 0 1 0 1 1 0 1 1 1 0 1 0 1 1 1 0 1 1 0 1]\n"
          ],
          "name": "stdout"
        }
      ]
    },
    {
      "cell_type": "code",
      "metadata": {
        "colab": {
          "base_uri": "https://localhost:8080/"
        },
        "id": "opFBNuaiYSro",
        "outputId": "0145a271-b35a-4c94-91ab-23ad20e2acea"
      },
      "source": [
        "# Print score\n",
        "print(\"Score:\", pipeline_classifier.score(X, y))"
      ],
      "execution_count": 14,
      "outputs": [
        {
          "output_type": "stream",
          "text": [
            "Score: 0.99\n"
          ],
          "name": "stdout"
        }
      ]
    },
    {
      "cell_type": "code",
      "metadata": {
        "colab": {
          "base_uri": "https://localhost:8080/"
        },
        "id": "iYDzoCjHYdRI",
        "outputId": "159aa48e-34ac-4a03-880d-96cd0a89b0d2"
      },
      "source": [
        "# Print selected features chosen by the selector\n",
        "features_status = pipeline_classifier.named_steps['selector'].get_support()\n",
        "selected_features = []\n",
        "for count, item in enumerate(features_status):\n",
        "  if item:\n",
        "    selected_features.append(count)\n",
        "\n",
        "print(\"Selected features (0-indexed):\", ', '.join([str(x) for x in selected_features]))"
      ],
      "execution_count": 15,
      "outputs": [
        {
          "output_type": "stream",
          "text": [
            "Selected features (0-indexed): 0, 5, 7, 9, 10, 11, 13, 15, 16, 18\n"
          ],
          "name": "stdout"
        }
      ]
    },
    {
      "cell_type": "code",
      "metadata": {
        "id": "9d6-YLfPb04g"
      },
      "source": [
        ""
      ],
      "execution_count": null,
      "outputs": []
    }
  ]
}