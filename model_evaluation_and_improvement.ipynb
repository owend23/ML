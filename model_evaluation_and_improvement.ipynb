{
  "nbformat": 4,
  "nbformat_minor": 0,
  "metadata": {
    "colab": {
      "name": "model_evaluation_and_improvement.ipynb",
      "provenance": [],
      "toc_visible": true,
      "authorship_tag": "ABX9TyPDBD+zg1b0RWkytyqESR6K",
      "include_colab_link": true
    },
    "kernelspec": {
      "name": "python3",
      "display_name": "Python 3"
    },
    "language_info": {
      "name": "python"
    }
  },
  "cells": [
    {
      "cell_type": "markdown",
      "metadata": {
        "id": "view-in-github",
        "colab_type": "text"
      },
      "source": [
        "<a href=\"https://colab.research.google.com/github/owend23/ML/blob/main/model_evaluation_and_improvement.ipynb\" target=\"_parent\"><img src=\"https://colab.research.google.com/assets/colab-badge.svg\" alt=\"Open In Colab\"/></a>"
      ]
    },
    {
      "cell_type": "markdown",
      "metadata": {
        "id": "VA2nOP_6crJd"
      },
      "source": [
        "# Model Evaluation and Improvement\n",
        "\n",
        "To evaluate our supervised models, so far we have split our dataset into a training set\n",
        "and a test set using the train_test_split function, built a model on the training set\n",
        "by calling the fit method, and evaluated it on the test set using the score method,\n",
        "which for classification computes the fraction of correctly classified samples."
      ]
    },
    {
      "cell_type": "code",
      "metadata": {
        "colab": {
          "base_uri": "https://localhost:8080/"
        },
        "id": "UIo17H2Ecw4r",
        "outputId": "d22a1cbe-c9a4-43cc-8086-b77af52ec217"
      },
      "source": [
        "from sklearn.datasets import make_blobs\n",
        "from sklearn.linear_model import LogisticRegression\n",
        "from sklearn.model_selection import train_test_split\n",
        "\n",
        "# create a synthetic dataset\n",
        "X, y = make_blobs(random_state=0)\n",
        "X_train, X_test, y_train, y_test = train_test_split(X, y, random_state=0)\n",
        "logreg = LogisticRegression().fit(X_train, y_train)\n",
        "print(\"Test set score: {:.2f}\".format(logreg.score(X_test, y_test)))"
      ],
      "execution_count": 4,
      "outputs": [
        {
          "output_type": "stream",
          "text": [
            "Test set score: 0.88\n"
          ],
          "name": "stdout"
        }
      ]
    },
    {
      "cell_type": "markdown",
      "metadata": {
        "id": "p93v6lBXdNnx"
      },
      "source": [
        "## Cross-Validation\n",
        "* a statistical method of evaluating generalization performance that is more stable and thorough than using a split into training and test set. In cross-validation, the data is instead split repeatedly and multiple models are trained.\n",
        "* k-fold cross-validation: where k is a user-specified number, usually 5 or 10. When performing five-fold cross-validation, the data is first partitioned into five parts of (approximately) equal size, called folds. Next a sequence of models is trained. The first model is trained using the first fold as the test set, and the remaining folds (2-5) are used as the training set. The model is built using the data in folds 2-5, and then the accuracy is evaluated on fold 1. Then another model is build, this time using fold 2 as the test set and the data in folds 1, 3, 4, and 5 as the training set.\n",
        "* For each split of the data we compute the accuracy."
      ]
    },
    {
      "cell_type": "code",
      "metadata": {
        "colab": {
          "base_uri": "https://localhost:8080/",
          "height": 187
        },
        "id": "ixFmd5cJd4Ci",
        "outputId": "bd692d2f-4cd8-488f-f7f3-499065179692"
      },
      "source": [
        "import mglearn\n",
        "mglearn.plots.plot_cross_validation()"
      ],
      "execution_count": 5,
      "outputs": [
        {
          "output_type": "display_data",
          "data": {
            "image/png": "[encoded data removed]",
            "text/plain": [
              "<Figure size 864x144 with 1 Axes>"
            ]
          },
          "metadata": {
            "tags": [],
            "needs_background": "light"
          }
        }
      ]
    },
    {
      "cell_type": "code",
      "metadata": {
        "colab": {
          "base_uri": "https://localhost:8080/"
        },
        "id": "Nsb-Sowcd6bS",
        "outputId": "065599ff-9679-437a-c6ed-9ea594be3a32"
      },
      "source": [
        "from sklearn.model_selection import cross_val_score\n",
        "from sklearn.datasets import load_iris\n",
        "from sklearn.linear_model import LogisticRegression\n",
        "\n",
        "iris = load_iris()\n",
        "logreg = LogisticRegression(max_iter=10000)\n",
        "\n",
        "scores = cross_val_score(logreg, iris.data, iris.target, cv=5)\n",
        "print(\"Cross-validation scores: {}\".format(scores))"
      ],
      "execution_count": 6,
      "outputs": [
        {
          "output_type": "stream",
          "text": [
            "Cross-validation scores: [0.96666667 1.         0.93333333 0.96666667 1.        ]\n"
          ],
          "name": "stdout"
        }
      ]
    },
    {
      "cell_type": "code",
      "metadata": {
        "colab": {
          "base_uri": "https://localhost:8080/"
        },
        "id": "F4p9q2HfePAU",
        "outputId": "3f82d81d-698d-4656-936a-98528fbdb25d"
      },
      "source": [
        "# A common way to summarize the cross-validation accuracy is to compute the mean:\n",
        "print(\"Average cross-validation score: {:.2f}\".format(scores.mean()))"
      ],
      "execution_count": 7,
      "outputs": [
        {
          "output_type": "stream",
          "text": [
            "Average cross-validation score: 0.97\n"
          ],
          "name": "stdout"
        }
      ]
    },
    {
      "cell_type": "markdown",
      "metadata": {
        "id": "nHtUNOX-en-0"
      },
      "source": [
        "Looking at all five scores produced by the five-fold\n",
        "cross-validation, we can also conclude that there is a relatively high variance in the\n",
        "accuracy between folds, ranging from 100% accuracy to 90% accuracy. This could\n",
        "imply that the model is very dependent on the particular folds used for training, but it\n",
        "could also just be a consequence of the small size of the dataset."
      ]
    },
    {
      "cell_type": "markdown",
      "metadata": {
        "id": "pU8HJrJsezoS"
      },
      "source": [
        "## Stratified k-Fold Cross-Validation and Other Strategies\n",
        "\n",
        "Splitting the dataset into k folds by starting with the first one-k-th part of the data, might not always be a good idea."
      ]
    },
    {
      "cell_type": "code",
      "metadata": {
        "colab": {
          "base_uri": "https://localhost:8080/"
        },
        "id": "kEH_XexRe5DL",
        "outputId": "b6c530f7-315a-4aa4-f7e6-3e350b0c17eb"
      },
      "source": [
        "from sklearn.datasets import load_iris\n",
        "iris = load_iris()\n",
        "print(\"Iris labels:\\n{}\".format(iris.target))"
      ],
      "execution_count": 8,
      "outputs": [
        {
          "output_type": "stream",
          "text": [
            "Iris labels:\n",
            "[0 0 0 0 0 0 0 0 0 0 0 0 0 0 0 0 0 0 0 0 0 0 0 0 0 0 0 0 0 0 0 0 0 0 0 0 0\n",
            " 0 0 0 0 0 0 0 0 0 0 0 0 0 1 1 1 1 1 1 1 1 1 1 1 1 1 1 1 1 1 1 1 1 1 1 1 1\n",
            " 1 1 1 1 1 1 1 1 1 1 1 1 1 1 1 1 1 1 1 1 1 1 1 1 1 1 2 2 2 2 2 2 2 2 2 2 2\n",
            " 2 2 2 2 2 2 2 2 2 2 2 2 2 2 2 2 2 2 2 2 2 2 2 2 2 2 2 2 2 2 2 2 2 2 2 2 2\n",
            " 2 2]\n"
          ],
          "name": "stdout"
        }
      ]
    },
    {
      "cell_type": "markdown",
      "metadata": {
        "id": "RKt-TF7pfGz3"
      },
      "source": [
        "As you can see, the first third of the data is the class 0, the second third is the class 1,\n",
        "and the last third is the class 2. Imagine doing three-fold cross-validation on this\n",
        "dataset. The first fold would be only class 0, so in the first split of the data, the test set\n",
        "would be only class 0, and the training set would be only classes 1 and 2. As the\n",
        "classes in training and test sets would be different for all three splits, the three-fold\n",
        "cross-validation accuracy would be zero on this dataset. That is not very helpful, as\n",
        "we can do much better than 0% accuracy on iris.\n",
        "\n",
        "As the simple k-fold strategy fails here, scikit-learn does not use it for classification,\n",
        "but rather uses stratified k-fold cross-validation. In stratified cross-validation, we\n",
        "split the data such that the proportions between classes are the same in each fold as\n",
        "they are in the whole dataset."
      ]
    },
    {
      "cell_type": "code",
      "metadata": {
        "colab": {
          "base_uri": "https://localhost:8080/",
          "height": 368
        },
        "id": "KFsvxg2wfKfV",
        "outputId": "f247eab3-4a11-45db-cf1e-8fdebcbd098d"
      },
      "source": [
        "mglearn.plots.plot_stratified_cross_validation()"
      ],
      "execution_count": 9,
      "outputs": [
        {
          "output_type": "display_data",
          "data": {
            "image/png": "[encoded data removed]",
            "text/plain": [
              "<Figure size 864x360 with 2 Axes>"
            ]
          },
          "metadata": {
            "tags": [],
            "needs_background": "light"
          }
        }
      ]
    },
    {
      "cell_type": "markdown",
      "metadata": {
        "id": "3DEZvGYPfVes"
      },
      "source": [
        "We saw earlier that we can adjust the number of folds that are used in\n",
        "cross_val_score using the cv parameter. However, scikit-learn allows for much\n",
        "finer control over what happens during the splitting of the data by providing a crossvalidation\n",
        "splitter as the cv parameter. For most use cases, the defaults of k-fold crossvalidation\n",
        "for regression and stratified k-fold for classification work well, but there\n",
        "are some cases where you might want to use a different strategy. Say, for example, we\n",
        "want to use the standard k-fold cross-validation on a classification dataset to reproduce\n",
        "someone else’s results. To do this, we first have to import the KFold splitter class\n",
        "from the model_selection module and instantiate it with the number of folds we\n",
        "want to use:"
      ]
    },
    {
      "cell_type": "code",
      "metadata": {
        "colab": {
          "base_uri": "https://localhost:8080/"
        },
        "id": "QgIueAr1fO6z",
        "outputId": "931d804a-54e7-4ac5-a10f-ca8c9e6381f7"
      },
      "source": [
        "from sklearn.model_selection import KFold\n",
        "kfold = KFold(n_splits=5)\n",
        "print(\"Cross-validation scores:\\n{}\".format(\n",
        "    cross_val_score(logreg, iris.data, iris.target, cv=kfold)))"
      ],
      "execution_count": 10,
      "outputs": [
        {
          "output_type": "stream",
          "text": [
            "Cross-validation scores:\n",
            "[1.         1.         0.86666667 0.93333333 0.83333333]\n"
          ],
          "name": "stdout"
        }
      ]
    },
    {
      "cell_type": "code",
      "metadata": {
        "colab": {
          "base_uri": "https://localhost:8080/"
        },
        "id": "BcNv13syflRB",
        "outputId": "9d2dff8c-4dbb-46b8-a6c8-7a02857361a8"
      },
      "source": [
        "kfold = KFold(n_splits=3)\n",
        "print(\"Cross-validation scores:\\n{}\".format(\n",
        "    cross_val_score(logreg, iris.data, iris.target, cv=kfold)))"
      ],
      "execution_count": 11,
      "outputs": [
        {
          "output_type": "stream",
          "text": [
            "Cross-validation scores:\n",
            "[0. 0. 0.]\n"
          ],
          "name": "stdout"
        }
      ]
    },
    {
      "cell_type": "code",
      "metadata": {
        "colab": {
          "base_uri": "https://localhost:8080/"
        },
        "id": "K-iYe5QbftlF",
        "outputId": "497119d2-e956-4317-8929-526a1918ce79"
      },
      "source": [
        "# can also shuffle data instead of stratifying the folds, to remove the ordering of the samples by label\n",
        "kfold = KFold(n_splits=3, shuffle=True, random_state=0)\n",
        "print(\"Cross-validation scores:\\n{}\".format(\n",
        "    cross_val_score(logreg, iris.data, iris.target, cv=kfold)))"
      ],
      "execution_count": 12,
      "outputs": [
        {
          "output_type": "stream",
          "text": [
            "Cross-validation scores:\n",
            "[0.98 0.96 0.96]\n"
          ],
          "name": "stdout"
        }
      ]
    },
    {
      "cell_type": "markdown",
      "metadata": {
        "id": "WU4e_VZPgBfp"
      },
      "source": [
        "## Leave-one-out cross-validation\n",
        "Another frequently used cross-validation method is leave-one-out. You can think of\n",
        "leave-one-out cross-validation as k-fold cross-validation where each fold is a single\n",
        "sample. For each split, you pick a single data point to be the test set. This can be very\n",
        "time consuming, particularly for large datasets, but sometimes provides better estimates\n",
        "on small datasets:"
      ]
    },
    {
      "cell_type": "code",
      "metadata": {
        "colab": {
          "base_uri": "https://localhost:8080/"
        },
        "id": "ulgFaT8Uf9hz",
        "outputId": "74ff7465-b5ba-4e42-c691-074a00eea0b7"
      },
      "source": [
        "from sklearn.model_selection import LeaveOneOut\n",
        "loo = LeaveOneOut()\n",
        "scores = cross_val_score(logreg, iris.data, iris.target, cv=loo)\n",
        "print(\"Number of cv iterations: \", len(scores))\n",
        "print(\"Mean accuracy: {:.2f}\".format(scores.mean()))"
      ],
      "execution_count": 13,
      "outputs": [
        {
          "output_type": "stream",
          "text": [
            "Number of cv iterations:  150\n",
            "Mean accuracy: 0.97\n"
          ],
          "name": "stdout"
        }
      ]
    },
    {
      "cell_type": "markdown",
      "metadata": {
        "id": "NVJ5mL5FgW3D"
      },
      "source": [
        "## Shuffle-split cross-validation\n",
        "Another, very flexible strategy for cross-validation is shuffle-split cross-validation. In\n",
        "shuffle-split cross-validation, each split samples train_size many points for the\n",
        "training set and test_size many (disjoint) point for the test set. This splitting is\n",
        "repeated n_iter times."
      ]
    },
    {
      "cell_type": "code",
      "metadata": {
        "colab": {
          "base_uri": "https://localhost:8080/",
          "height": 152
        },
        "id": "qAevyySPgQw-",
        "outputId": "f43f7afd-dc1c-4a64-894d-7b32b14eb310"
      },
      "source": [
        "mglearn.plots.plot_shuffle_split()"
      ],
      "execution_count": 14,
      "outputs": [
        {
          "output_type": "display_data",
          "data": {
            "image/png": "[encoded data removed]",
            "text/plain": [
              "<Figure size 720x144 with 1 Axes>"
            ]
          },
          "metadata": {
            "tags": [],
            "needs_background": "light"
          }
        }
      ]
    },
    {
      "cell_type": "code",
      "metadata": {
        "colab": {
          "base_uri": "https://localhost:8080/"
        },
        "id": "iE9VGh_jgadi",
        "outputId": "4e3e3767-da97-48ff-ff6d-6be770286b1a"
      },
      "source": [
        "from sklearn.model_selection import ShuffleSplit\n",
        "shuffle_split = ShuffleSplit(test_size=.5, train_size=.5, n_splits=10)\n",
        "scores = cross_val_score(logreg, iris.data, iris.target, cv=shuffle_split)\n",
        "print(\"Cross-validation scores:\\n{}\".format(scores))"
      ],
      "execution_count": 15,
      "outputs": [
        {
          "output_type": "stream",
          "text": [
            "Cross-validation scores:\n",
            "[0.94666667 0.94666667 0.97333333 0.96       0.97333333 0.96\n",
            " 0.94666667 0.97333333 0.96       0.92      ]\n"
          ],
          "name": "stdout"
        }
      ]
    },
    {
      "cell_type": "markdown",
      "metadata": {
        "id": "amipoLDbg0BR"
      },
      "source": [
        "## Cross-validation with groups\n",
        "\n",
        "Another very common setting for cross-validation is when there are groups in the\n",
        "data that are highly related. Say you want to build a system to recognize emotions\n",
        "from pictures of faces, and you collect a dataset of pictures of 100 people where each\n",
        "person is captured multiple times, showing various emotions. The goal is to build a\n",
        "classifier that can correctly identify emotions of people not in the dataset. You could\n",
        "use the default stratified cross-validation to measure the performance of a classifier\n",
        "here. However, it is likely that pictures of the same person will be in both the training\n",
        "and the test set. It will be much easier for a classifier to detect emotions in a face that\n",
        "is part of the training set, compared to a completely new face. To accurately evaluate\n",
        "the generalization to new faces, we must therefore ensure that the training and test\n",
        "sets contain images of different people.\n",
        "\n",
        "To achieve this, we can use GroupKFold, which takes an array of groups as argument\n",
        "that we can use to indicate which person is in the image. The groups array here indicates\n",
        "groups in the data that should not be split when creating the training and test\n",
        "sets, and should not be confused with the class label."
      ]
    },
    {
      "cell_type": "code",
      "metadata": {
        "colab": {
          "base_uri": "https://localhost:8080/"
        },
        "id": "bcH_NkP_g9AW",
        "outputId": "83e3fa3d-0d7b-42c2-9511-b562fe81a201"
      },
      "source": [
        "from sklearn.model_selection import GroupKFold\n",
        "X, y = make_blobs(n_samples=12, random_state=0)\n",
        "# assume the first three samples belong to the same group\n",
        "# then the next four, etc.\n",
        "groups = [0, 0, 0, 1, 1, 1, 1, 2, 2, 3, 3, 3]\n",
        "scores = cross_val_score(logreg, X, y, groups, cv=GroupKFold(n_splits=3))\n",
        "print(\"Cross-validation scores:\\n{}\".format(scores))"
      ],
      "execution_count": 16,
      "outputs": [
        {
          "output_type": "stream",
          "text": [
            "Cross-validation scores:\n",
            "[0.75       0.6        0.66666667]\n"
          ],
          "name": "stdout"
        }
      ]
    },
    {
      "cell_type": "code",
      "metadata": {
        "colab": {
          "base_uri": "https://localhost:8080/",
          "height": 152
        },
        "id": "MKaIX3L5hTBn",
        "outputId": "f6d64e1e-501c-4021-ab90-83d4673a48bd"
      },
      "source": [
        "mglearn.plots.plot_group_kfold()"
      ],
      "execution_count": 17,
      "outputs": [
        {
          "output_type": "display_data",
          "data": {
            "image/png": "[encoded data removed]",
            "text/plain": [
              "<Figure size 720x144 with 1 Axes>"
            ]
          },
          "metadata": {
            "tags": [],
            "needs_background": "light"
          }
        }
      ]
    },
    {
      "cell_type": "markdown",
      "metadata": {
        "id": "iP55DhLHhqfJ"
      },
      "source": [
        "# Grid Search\n",
        "\n",
        "* basically means trying all possible combinations of the\n",
        "parameters of interest."
      ]
    },
    {
      "cell_type": "markdown",
      "metadata": {
        "id": "qSGCmYVzh2i_"
      },
      "source": [
        "## Simple Grid Search"
      ]
    },
    {
      "cell_type": "code",
      "metadata": {
        "colab": {
          "base_uri": "https://localhost:8080/"
        },
        "id": "BvSM4cg8hrmZ",
        "outputId": "ab9d5c14-371b-4a96-a11f-f7b3c28e3006"
      },
      "source": [
        "# naive grid search implementation\n",
        "from sklearn.svm import SVC\n",
        "X_train, X_test, y_train, y_test = train_test_split(\n",
        "    iris.data, iris.target, random_state=0)\n",
        "print(\"Size of training set: {}   size of test set: {}\".format(\n",
        "    X_train.shape[0], X_test.shape[0]))\n",
        "\n",
        "best_score = 0\n",
        "\n",
        "for gamma in [0.001, 0.01, 0.1, 1, 10, 100]:\n",
        "  for C in [0.001, 0.01, 0.1, 1, 10, 100]:\n",
        "    # for each combination of parameters, train an SVC\n",
        "    svm = SVC(gamma=gamma, C=C)\n",
        "    svm.fit(X_train, y_train)\n",
        "    # evaluate the SVC on the test set\n",
        "    score = svm.score(X_test, y_test)\n",
        "    # if we got a better score, store the score and parameters\n",
        "    if score > best_score:\n",
        "      best_score = score\n",
        "      best_parameters = {'C': C, 'gamma': gamma}\n",
        "\n",
        "print(\"Best score: {:.2f}\".format(best_score))\n",
        "print(\"Best parameters: {}\".format(best_parameters))"
      ],
      "execution_count": 18,
      "outputs": [
        {
          "output_type": "stream",
          "text": [
            "Size of training set: 112   size of test set: 38\n",
            "Best score: 0.97\n",
            "Best parameters: {'C': 100, 'gamma': 0.001}\n"
          ],
          "name": "stdout"
        }
      ]
    },
    {
      "cell_type": "markdown",
      "metadata": {
        "id": "93C5E1N4i5U3"
      },
      "source": [
        "# The Danger of Overfitting the Parameters and the Validation Set\n",
        "\n",
        "Given this result, we might be tempted to report that we found a model that performs\n",
        "with 97% accuracy on our dataset. However, this claim could be overly optimistic (or\n",
        "just wrong), for the following reason: we tried many different parameters and selected the one with best accuracy on the test set, but this accuracy won’t necessarily\n",
        "carry over to new data. Because we used the test data to adjust the parameters, we can\n",
        "no longer use it to assess how good the model is. This is the same reason we needed\n",
        "to split the data into training and test sets in the first place; we need an independent\n",
        "dataset to evaluate, one that was not used to create the model.\n",
        "\n",
        "One way to resolve this problem is to split the data again, so we have three sets: the\n",
        "training set to build the model, the validation (or development) set to select the\n",
        "parameters of the model, and the test set to evaluate the performance of the selected\n",
        "parameters."
      ]
    },
    {
      "cell_type": "code",
      "metadata": {
        "colab": {
          "base_uri": "https://localhost:8080/"
        },
        "id": "5GFm-Iz-jC6w",
        "outputId": "aab3d597-881b-42db-d028-bfdd61ed86a1"
      },
      "source": [
        "from sklearn.svm import SVC\n",
        "X_trainval, X_test, y_trainval, y_test = train_test_split(\n",
        "    iris.data, iris.target, random_state=0)\n",
        "# split train+validation set into training and validation sets\n",
        "X_train, X_valid, y_train, y_valid = train_test_split(\n",
        "    X_trainval, y_trainval, random_state=1)\n",
        "print(\"Size of training set: {}   size of validation set: {}   size of test set: {}\\n\".format(\n",
        "    X_train.shape[0], X_valid.shape[0], X_test.shape[0]))\n",
        "\n",
        "best_score = 0\n",
        "\n",
        "for gamma in [0.001, 0.01, 0.1, 1, 10, 100]:\n",
        "  for C in [0.001, 0.01, 0.1, 1, 10, 100]:\n",
        "    svm = SVC(gamma=gamma, C=C)\n",
        "    svm.fit(X_train, y_train)\n",
        "    score = svm.score(X_valid, y_valid)\n",
        "    if score > best_score:\n",
        "      best_score = score\n",
        "      best_parameters = {'C': C, 'gamma': gamma}\n",
        "\n",
        "svm = SVC(**best_parameters)\n",
        "svm.fit(X_trainval, y_trainval)\n",
        "test_score = svm.score(X_test, y_test)\n",
        "print(\"Best score on validation set: {:.2f}\".format(best_score))\n",
        "print(\"Best parameters: \", best_parameters)\n",
        "print(\"Test set score with best parameters: {:.2f}\".format(test_score))"
      ],
      "execution_count": 19,
      "outputs": [
        {
          "output_type": "stream",
          "text": [
            "Size of training set: 84   size of validation set: 28   size of test set: 38\n",
            "\n",
            "Best score on validation set: 0.96\n",
            "Best parameters:  {'C': 10, 'gamma': 0.001}\n",
            "Test set score with best parameters: 0.92\n"
          ],
          "name": "stdout"
        }
      ]
    },
    {
      "cell_type": "markdown",
      "metadata": {
        "id": "WlPtiiyrly62"
      },
      "source": [
        "## Grid Search with Cross-Validation"
      ]
    },
    {
      "cell_type": "code",
      "metadata": {
        "colab": {
          "base_uri": "https://localhost:8080/"
        },
        "id": "ut_nc2pClWiH",
        "outputId": "d22c3647-31b4-4f79-d23a-2107f3e29e1e"
      },
      "source": [
        "import numpy as np\n",
        "\n",
        "best_score = 0\n",
        "for gamma in [0.001, 0.01, 0.1, 1, 10, 100]:\n",
        "  for C in [0.001, 0.01, 0.1, 1, 10, 100]:\n",
        "    svm = SVC(gamma=gamma, C=C)\n",
        "    scores = cross_val_score(svm, X_trainval, y_trainval, cv=5)\n",
        "    score = np.mean(scores)\n",
        "    if score > best_score:\n",
        "      best_score = score\n",
        "      best_parameters = {'C': C, 'gamma': gamma}\n",
        "\n",
        "svm = SVC(**best_parameters)\n",
        "svm.fit(X_trainval, y_trainval)"
      ],
      "execution_count": 20,
      "outputs": [
        {
          "output_type": "execute_result",
          "data": {
            "text/plain": [
              "SVC(C=10, break_ties=False, cache_size=200, class_weight=None, coef0=0.0,\n",
              "    decision_function_shape='ovr', degree=3, gamma=0.1, kernel='rbf',\n",
              "    max_iter=-1, probability=False, random_state=None, shrinking=True,\n",
              "    tol=0.001, verbose=False)"
            ]
          },
          "metadata": {
            "tags": []
          },
          "execution_count": 20
        }
      ]
    },
    {
      "cell_type": "code",
      "metadata": {
        "colab": {
          "base_uri": "https://localhost:8080/",
          "height": 335
        },
        "id": "wOiWEe24mQXH",
        "outputId": "c04293b4-ae00-46dc-937e-8a7c467c50ad"
      },
      "source": [
        "mglearn.plots.plot_cross_val_selection()"
      ],
      "execution_count": 21,
      "outputs": [
        {
          "output_type": "display_data",
          "data": {
            "image/png": "[encoded data removed]",
            "text/plain": [
              "<Figure size 720x216 with 1 Axes>"
            ]
          },
          "metadata": {
            "tags": [],
            "needs_background": "light"
          }
        }
      ]
    },
    {
      "cell_type": "code",
      "metadata": {
        "colab": {
          "base_uri": "https://localhost:8080/",
          "height": 440
        },
        "id": "18bM_vX1mxpp",
        "outputId": "3e257983-de21-4fca-9edc-5b6bba0cc961"
      },
      "source": [
        "mglearn.plots.plot_grid_search_overview()"
      ],
      "execution_count": 22,
      "outputs": [
        {
          "output_type": "display_data",
          "data": {
            "image/png": "[encoded data removed]",
            "text/plain": [
              "<Figure size 700x210 with 1 Axes>"
            ]
          },
          "metadata": {
            "tags": [],
            "needs_background": "light"
          }
        }
      ]
    },
    {
      "cell_type": "code",
      "metadata": {
        "colab": {
          "base_uri": "https://localhost:8080/"
        },
        "id": "SzFrEXR6nB21",
        "outputId": "fb7caeba-6ca7-4c1f-d706-4a848c5187fa"
      },
      "source": [
        "param_grid = {'C': [0.001, 0.01, 0.1, 1, 10, 100],\n",
        "              'gamma': [0.001, 0.01, 0.1, 1, 10, 100]}\n",
        "print(\"Parameter grid:\\n{}\".format(param_grid))"
      ],
      "execution_count": 23,
      "outputs": [
        {
          "output_type": "stream",
          "text": [
            "Parameter grid:\n",
            "{'C': [0.001, 0.01, 0.1, 1, 10, 100], 'gamma': [0.001, 0.01, 0.1, 1, 10, 100]}\n"
          ],
          "name": "stdout"
        }
      ]
    },
    {
      "cell_type": "code",
      "metadata": {
        "colab": {
          "base_uri": "https://localhost:8080/"
        },
        "id": "4ZrH_bctnZVC",
        "outputId": "104b7a03-19b2-4eae-962a-b4bfdc4f15e8"
      },
      "source": [
        "from sklearn.model_selection import GridSearchCV\n",
        "from sklearn.svm import SVC\n",
        "grid_search = GridSearchCV(SVC(), param_grid, cv=5)\n",
        "\n",
        "X_train, X_test, y_train, y_test = train_test_split(\n",
        "    iris.data, iris.target, random_state=0)\n",
        "\n",
        "grid_search.fit(X_train, y_train)\n",
        "\n",
        "print(\"Test set score: {:.2f}\".format(grid_search.score(X_test, y_test)))"
      ],
      "execution_count": 24,
      "outputs": [
        {
          "output_type": "stream",
          "text": [
            "Test set score: 0.97\n"
          ],
          "name": "stdout"
        }
      ]
    },
    {
      "cell_type": "markdown",
      "metadata": {
        "id": "kbPH3DyFntXs"
      },
      "source": [
        "Fitting the GridSearchCV object not only searches for the best parameters, but also\n",
        "automatically fits a new model on the whole training dataset with the parameters that\n",
        "yielded the best cross-validation performance. What happens in fit is therefore\n",
        "equivalent to the result of the In[21] code we saw at the beginning of this section. The\n",
        "GridSearchCV class provides a very convenient interface to access the retrained\n",
        "model using the predict and score methods. To evaluate how well the best found\n",
        "parameters generalize, we can call score on the test set:"
      ]
    },
    {
      "cell_type": "code",
      "metadata": {
        "colab": {
          "base_uri": "https://localhost:8080/"
        },
        "id": "cEZCTsLKnyIq",
        "outputId": "47413c10-4356-46f7-85df-a44131b67c82"
      },
      "source": [
        "print(\"Best parameters: {}\".format(grid_search.best_params_))\n",
        "print(\"Best cross-validation score: {:.2f}\".format(grid_search.best_score_))"
      ],
      "execution_count": 25,
      "outputs": [
        {
          "output_type": "stream",
          "text": [
            "Best parameters: {'C': 10, 'gamma': 0.1}\n",
            "Best cross-validation score: 0.97\n"
          ],
          "name": "stdout"
        }
      ]
    },
    {
      "cell_type": "code",
      "metadata": {
        "colab": {
          "base_uri": "https://localhost:8080/"
        },
        "id": "rV3ppcrBoDbs",
        "outputId": "01e5f5f2-2d41-41e5-bd73-e3521022d4f2"
      },
      "source": [
        "print(\"Best estimator:\\n{}\".format(grid_search.best_estimator_))"
      ],
      "execution_count": 26,
      "outputs": [
        {
          "output_type": "stream",
          "text": [
            "Best estimator:\n",
            "SVC(C=10, break_ties=False, cache_size=200, class_weight=None, coef0=0.0,\n",
            "    decision_function_shape='ovr', degree=3, gamma=0.1, kernel='rbf',\n",
            "    max_iter=-1, probability=False, random_state=None, shrinking=True,\n",
            "    tol=0.001, verbose=False)\n"
          ],
          "name": "stdout"
        }
      ]
    },
    {
      "cell_type": "markdown",
      "metadata": {
        "id": "E0mBCRUWiZvE"
      },
      "source": [
        "## Analyzing the result of cross-validation\n",
        "\n",
        "It is often helpful to visualize the results of cross-validation, to understand how the model generalization depends on the parameters we are searching. As grid searches are quite computationally expensive to run, often it is a good idea to start with a relatively coarse and small grid."
      ]
    },
    {
      "cell_type": "code",
      "metadata": {
        "id": "8kQ-alA6oNUj",
        "colab": {
          "base_uri": "https://localhost:8080/",
          "height": 200
        },
        "outputId": "2473b7ba-e318-455a-d0b5-1fa93bdcfa39"
      },
      "source": [
        "import pandas as pd\n",
        "# convert to DataFrame\n",
        "results = pd.DataFrame(grid_search.cv_results_)\n",
        "# show the first 5 rows\n",
        "display(results.head())"
      ],
      "execution_count": 29,
      "outputs": [
        {
          "output_type": "display_data",
          "data": {
            "text/html": [
              "<div>\n",
              "<style scoped>\n",
              "    .dataframe tbody tr th:only-of-type {\n",
              "        vertical-align: middle;\n",
              "    }\n",
              "\n",
              "    .dataframe tbody tr th {\n",
              "        vertical-align: top;\n",
              "    }\n",
              "\n",
              "    .dataframe thead th {\n",
              "        text-align: right;\n",
              "    }\n",
              "</style>\n",
              "<table border=\"1\" class=\"dataframe\">\n",
              "  <thead>\n",
              "    <tr style=\"text-align: right;\">\n",
              "      <th></th>\n",
              "      <th>mean_fit_time</th>\n",
              "      <th>std_fit_time</th>\n",
              "      <th>mean_score_time</th>\n",
              "      <th>std_score_time</th>\n",
              "      <th>param_C</th>\n",
              "      <th>param_gamma</th>\n",
              "      <th>params</th>\n",
              "      <th>split0_test_score</th>\n",
              "      <th>split1_test_score</th>\n",
              "      <th>split2_test_score</th>\n",
              "      <th>split3_test_score</th>\n",
              "      <th>split4_test_score</th>\n",
              "      <th>mean_test_score</th>\n",
              "      <th>std_test_score</th>\n",
              "      <th>rank_test_score</th>\n",
              "    </tr>\n",
              "  </thead>\n",
              "  <tbody>\n",
              "    <tr>\n",
              "      <th>0</th>\n",
              "      <td>0.000900</td>\n",
              "      <td>0.000101</td>\n",
              "      <td>0.000407</td>\n",
              "      <td>0.000027</td>\n",
              "      <td>0.001</td>\n",
              "      <td>0.001</td>\n",
              "      <td>{'C': 0.001, 'gamma': 0.001}</td>\n",
              "      <td>0.347826</td>\n",
              "      <td>0.347826</td>\n",
              "      <td>0.363636</td>\n",
              "      <td>0.363636</td>\n",
              "      <td>0.409091</td>\n",
              "      <td>0.366403</td>\n",
              "      <td>0.022485</td>\n",
              "      <td>22</td>\n",
              "    </tr>\n",
              "    <tr>\n",
              "      <th>1</th>\n",
              "      <td>0.000811</td>\n",
              "      <td>0.000008</td>\n",
              "      <td>0.000382</td>\n",
              "      <td>0.000011</td>\n",
              "      <td>0.001</td>\n",
              "      <td>0.01</td>\n",
              "      <td>{'C': 0.001, 'gamma': 0.01}</td>\n",
              "      <td>0.347826</td>\n",
              "      <td>0.347826</td>\n",
              "      <td>0.363636</td>\n",
              "      <td>0.363636</td>\n",
              "      <td>0.409091</td>\n",
              "      <td>0.366403</td>\n",
              "      <td>0.022485</td>\n",
              "      <td>22</td>\n",
              "    </tr>\n",
              "    <tr>\n",
              "      <th>2</th>\n",
              "      <td>0.000838</td>\n",
              "      <td>0.000021</td>\n",
              "      <td>0.000409</td>\n",
              "      <td>0.000045</td>\n",
              "      <td>0.001</td>\n",
              "      <td>0.1</td>\n",
              "      <td>{'C': 0.001, 'gamma': 0.1}</td>\n",
              "      <td>0.347826</td>\n",
              "      <td>0.347826</td>\n",
              "      <td>0.363636</td>\n",
              "      <td>0.363636</td>\n",
              "      <td>0.409091</td>\n",
              "      <td>0.366403</td>\n",
              "      <td>0.022485</td>\n",
              "      <td>22</td>\n",
              "    </tr>\n",
              "    <tr>\n",
              "      <th>3</th>\n",
              "      <td>0.000899</td>\n",
              "      <td>0.000120</td>\n",
              "      <td>0.000420</td>\n",
              "      <td>0.000059</td>\n",
              "      <td>0.001</td>\n",
              "      <td>1</td>\n",
              "      <td>{'C': 0.001, 'gamma': 1}</td>\n",
              "      <td>0.347826</td>\n",
              "      <td>0.347826</td>\n",
              "      <td>0.363636</td>\n",
              "      <td>0.363636</td>\n",
              "      <td>0.409091</td>\n",
              "      <td>0.366403</td>\n",
              "      <td>0.022485</td>\n",
              "      <td>22</td>\n",
              "    </tr>\n",
              "    <tr>\n",
              "      <th>4</th>\n",
              "      <td>0.000890</td>\n",
              "      <td>0.000049</td>\n",
              "      <td>0.000403</td>\n",
              "      <td>0.000026</td>\n",
              "      <td>0.001</td>\n",
              "      <td>10</td>\n",
              "      <td>{'C': 0.001, 'gamma': 10}</td>\n",
              "      <td>0.347826</td>\n",
              "      <td>0.347826</td>\n",
              "      <td>0.363636</td>\n",
              "      <td>0.363636</td>\n",
              "      <td>0.409091</td>\n",
              "      <td>0.366403</td>\n",
              "      <td>0.022485</td>\n",
              "      <td>22</td>\n",
              "    </tr>\n",
              "  </tbody>\n",
              "</table>\n",
              "</div>"
            ],
            "text/plain": [
              "   mean_fit_time  std_fit_time  ...  std_test_score  rank_test_score\n",
              "0       0.000900      0.000101  ...        0.022485               22\n",
              "1       0.000811      0.000008  ...        0.022485               22\n",
              "2       0.000838      0.000021  ...        0.022485               22\n",
              "3       0.000899      0.000120  ...        0.022485               22\n",
              "4       0.000890      0.000049  ...        0.022485               22\n",
              "\n",
              "[5 rows x 15 columns]"
            ]
          },
          "metadata": {
            "tags": []
          }
        }
      ]
    },
    {
      "cell_type": "markdown",
      "metadata": {
        "id": "gQ7Qr8tQjE5d"
      },
      "source": [
        "Each row in results corresponds to one particular parameter setting. For each setting, the results of all cross-validation splits are recorded, as well as the mean and standard deviation over all splits."
      ]
    },
    {
      "cell_type": "code",
      "metadata": {
        "colab": {
          "base_uri": "https://localhost:8080/",
          "height": 295
        },
        "id": "aDN-DKIPizmt",
        "outputId": "91f49a3f-b1d1-4b93-d992-c33b53377a84"
      },
      "source": [
        "scores = np.array(results.mean_test_score).reshape(6, 6)\n",
        "\n",
        "# plot the mean cross-validation scores\n",
        "mglearn.tools.heatmap(scores, xlabel='gamma', xticklabels=param_grid['gamma'],\n",
        "                      ylabel='C', yticklabels=param_grid['C'], cmap='viridis')"
      ],
      "execution_count": 30,
      "outputs": [
        {
          "output_type": "execute_result",
          "data": {
            "text/plain": [
              "<matplotlib.collections.PolyCollection at 0x7fbf01d32d90>"
            ]
          },
          "metadata": {
            "tags": []
          },
          "execution_count": 30
        },
        {
          "output_type": "display_data",
          "data": {
            "image/png": "[encoded data removed]",
            "text/plain": [
              "<Figure size 432x288 with 1 Axes>"
            ]
          },
          "metadata": {
            "tags": [],
            "needs_background": "light"
          }
        }
      ]
    },
    {
      "cell_type": "code",
      "metadata": {
        "colab": {
          "base_uri": "https://localhost:8080/",
          "height": 318
        },
        "id": "kehjYiOfjfO6",
        "outputId": "2fc3309b-ebba-4500-82ab-1467f01dc36a"
      },
      "source": [
        "import matplotlib.pyplot as plt\n",
        "\n",
        "fig, axes = plt.subplots(1, 3, figsize=(13, 5))\n",
        "\n",
        "param_grid_linear = {'C': np.linspace(1, 2, 6),\n",
        "                     'gamma': np.linspace(1, 2, 6)}\n",
        "\n",
        "param_grid_one_log = {'C': np.linspace(1, 2, 6),\n",
        "                      'gamma': np.logspace(-3, 2, 6)}\n",
        "\n",
        "param_grid_range = {'C': np.logspace(-3, 2, 6),\n",
        "                    'gamma': np.logspace(-7, -2, 6)}\n",
        "\n",
        "for param_grid, ax in zip([param_grid_linear, param_grid_one_log,\n",
        "                           param_grid_range], axes):\n",
        "    grid_search = GridSearchCV(SVC(), param_grid, cv=5)\n",
        "    grid_search.fit(X_train, y_train)\n",
        "    scores = grid_search.cv_results_['mean_test_score'].reshape(6, 6)\n",
        "\n",
        "    # plot the mean cross-validation scores\n",
        "    scores_image = mglearn.tools.heatmap(\n",
        "        scores, xlabel='gamma', ylabel='C', xticklabels=param_grid['gamma'],\n",
        "        yticklabels=param_grid['C'], cmap='viridis', ax=ax)\n",
        "\n",
        "plt.colorbar(scores_image, ax=axes.tolist())"
      ],
      "execution_count": 32,
      "outputs": [
        {
          "output_type": "execute_result",
          "data": {
            "text/plain": [
              "<matplotlib.colorbar.Colorbar at 0x7fbefdf0de10>"
            ]
          },
          "metadata": {
            "tags": []
          },
          "execution_count": 32
        },
        {
          "output_type": "display_data",
          "data": {
            "image/png": "[encoded data removed]",
            "text/plain": [
              "<Figure size 936x360 with 4 Axes>"
            ]
          },
          "metadata": {
            "tags": [],
            "needs_background": "light"
          }
        }
      ]
    },
    {
      "cell_type": "markdown",
      "metadata": {
        "id": "fsnGzDvWlAsI"
      },
      "source": [
        "## Search over spaces that are not grids\n",
        "\n",
        "In some cases, trying all possible combinations of all parameters as GridSearchCV usually does, is not a good idea"
      ]
    },
    {
      "cell_type": "code",
      "metadata": {
        "colab": {
          "base_uri": "https://localhost:8080/"
        },
        "id": "G9Lr8sj_kl36",
        "outputId": "94ca6319-1fc9-4083-e184-6197ae139fd7"
      },
      "source": [
        "param_grid = [{'kernel': ['rbf'],\n",
        "               'C': [0.001, 0.01, 0.1, 1, 10, 100]},\n",
        "              {'kernel': ['linear'],\n",
        "               'C': [0.001, 0.01, 0.1, 1, 10, 100]}]\n",
        "print(\"List of grids:\\n{}\".format(param_grid))\n",
        "\n",
        "grid_search = GridSearchCV(SVC(), param_grid, cv=5)\n",
        "grid_search.fit(X_train, y_train)\n",
        "print(\"Best parameters: {}\".format(grid_search.best_params_))\n",
        "print(\"Best cross-validation score: {:.2f}\".format(grid_search.best_score_))"
      ],
      "execution_count": 34,
      "outputs": [
        {
          "output_type": "stream",
          "text": [
            "List of grids:\n",
            "[{'kernel': ['rbf'], 'C': [0.001, 0.01, 0.1, 1, 10, 100]}, {'kernel': ['linear'], 'C': [0.001, 0.01, 0.1, 1, 10, 100]}]\n",
            "Best parameters: {'C': 10, 'kernel': 'rbf'}\n",
            "Best cross-validation score: 0.97\n"
          ],
          "name": "stdout"
        }
      ]
    },
    {
      "cell_type": "code",
      "metadata": {
        "colab": {
          "base_uri": "https://localhost:8080/",
          "height": 518
        },
        "id": "ebpq7R3plJ0_",
        "outputId": "0eeeaafc-e0b0-4266-b640-4d7c8ee7ec93"
      },
      "source": [
        "results = pd.DataFrame(grid_search.cv_results_)\n",
        "# we display the transposed table so that it better fits on the page:\n",
        "display(results.T)"
      ],
      "execution_count": 35,
      "outputs": [
        {
          "output_type": "display_data",
          "data": {
            "text/html": [
              "<div>\n",
              "<style scoped>\n",
              "    .dataframe tbody tr th:only-of-type {\n",
              "        vertical-align: middle;\n",
              "    }\n",
              "\n",
              "    .dataframe tbody tr th {\n",
              "        vertical-align: top;\n",
              "    }\n",
              "\n",
              "    .dataframe thead th {\n",
              "        text-align: right;\n",
              "    }\n",
              "</style>\n",
              "<table border=\"1\" class=\"dataframe\">\n",
              "  <thead>\n",
              "    <tr style=\"text-align: right;\">\n",
              "      <th></th>\n",
              "      <th>0</th>\n",
              "      <th>1</th>\n",
              "      <th>2</th>\n",
              "      <th>3</th>\n",
              "      <th>4</th>\n",
              "      <th>5</th>\n",
              "      <th>6</th>\n",
              "      <th>7</th>\n",
              "      <th>8</th>\n",
              "      <th>9</th>\n",
              "      <th>10</th>\n",
              "      <th>11</th>\n",
              "    </tr>\n",
              "  </thead>\n",
              "  <tbody>\n",
              "    <tr>\n",
              "      <th>mean_fit_time</th>\n",
              "      <td>0.00170856</td>\n",
              "      <td>0.00195436</td>\n",
              "      <td>0.00148592</td>\n",
              "      <td>0.00113015</td>\n",
              "      <td>0.00107551</td>\n",
              "      <td>0.00103016</td>\n",
              "      <td>0.00280643</td>\n",
              "      <td>0.00105324</td>\n",
              "      <td>0.000899696</td>\n",
              "      <td>0.000949001</td>\n",
              "      <td>0.00150084</td>\n",
              "      <td>0.00149097</td>\n",
              "    </tr>\n",
              "    <tr>\n",
              "      <th>std_fit_time</th>\n",
              "      <td>0.000167427</td>\n",
              "      <td>0.000635914</td>\n",
              "      <td>8.31854e-05</td>\n",
              "      <td>1.71306e-05</td>\n",
              "      <td>6.67955e-05</td>\n",
              "      <td>2.51951e-05</td>\n",
              "      <td>0.00275376</td>\n",
              "      <td>6.14103e-06</td>\n",
              "      <td>4.61074e-05</td>\n",
              "      <td>2.36622e-05</td>\n",
              "      <td>0.00120714</td>\n",
              "      <td>0.00103042</td>\n",
              "    </tr>\n",
              "    <tr>\n",
              "      <th>mean_score_time</th>\n",
              "      <td>0.000763702</td>\n",
              "      <td>0.00072937</td>\n",
              "      <td>0.000764227</td>\n",
              "      <td>0.000687551</td>\n",
              "      <td>0.000664568</td>\n",
              "      <td>0.000643349</td>\n",
              "      <td>0.000681162</td>\n",
              "      <td>0.000635958</td>\n",
              "      <td>0.000621462</td>\n",
              "      <td>0.000637341</td>\n",
              "      <td>0.000618696</td>\n",
              "      <td>0.000608301</td>\n",
              "    </tr>\n",
              "    <tr>\n",
              "      <th>std_score_time</th>\n",
              "      <td>3.85803e-05</td>\n",
              "      <td>3.75375e-05</td>\n",
              "      <td>3.41389e-05</td>\n",
              "      <td>1.32586e-05</td>\n",
              "      <td>1.50552e-05</td>\n",
              "      <td>2.60985e-05</td>\n",
              "      <td>3.16675e-05</td>\n",
              "      <td>3.48289e-05</td>\n",
              "      <td>4.07766e-05</td>\n",
              "      <td>5.02199e-05</td>\n",
              "      <td>4.62284e-05</td>\n",
              "      <td>2.48901e-05</td>\n",
              "    </tr>\n",
              "    <tr>\n",
              "      <th>param_C</th>\n",
              "      <td>0.001</td>\n",
              "      <td>0.01</td>\n",
              "      <td>0.1</td>\n",
              "      <td>1</td>\n",
              "      <td>10</td>\n",
              "      <td>100</td>\n",
              "      <td>0.001</td>\n",
              "      <td>0.01</td>\n",
              "      <td>0.1</td>\n",
              "      <td>1</td>\n",
              "      <td>10</td>\n",
              "      <td>100</td>\n",
              "    </tr>\n",
              "    <tr>\n",
              "      <th>param_kernel</th>\n",
              "      <td>rbf</td>\n",
              "      <td>rbf</td>\n",
              "      <td>rbf</td>\n",
              "      <td>rbf</td>\n",
              "      <td>rbf</td>\n",
              "      <td>rbf</td>\n",
              "      <td>linear</td>\n",
              "      <td>linear</td>\n",
              "      <td>linear</td>\n",
              "      <td>linear</td>\n",
              "      <td>linear</td>\n",
              "      <td>linear</td>\n",
              "    </tr>\n",
              "    <tr>\n",
              "      <th>params</th>\n",
              "      <td>{'C': 0.001, 'kernel': 'rbf'}</td>\n",
              "      <td>{'C': 0.01, 'kernel': 'rbf'}</td>\n",
              "      <td>{'C': 0.1, 'kernel': 'rbf'}</td>\n",
              "      <td>{'C': 1, 'kernel': 'rbf'}</td>\n",
              "      <td>{'C': 10, 'kernel': 'rbf'}</td>\n",
              "      <td>{'C': 100, 'kernel': 'rbf'}</td>\n",
              "      <td>{'C': 0.001, 'kernel': 'linear'}</td>\n",
              "      <td>{'C': 0.01, 'kernel': 'linear'}</td>\n",
              "      <td>{'C': 0.1, 'kernel': 'linear'}</td>\n",
              "      <td>{'C': 1, 'kernel': 'linear'}</td>\n",
              "      <td>{'C': 10, 'kernel': 'linear'}</td>\n",
              "      <td>{'C': 100, 'kernel': 'linear'}</td>\n",
              "    </tr>\n",
              "    <tr>\n",
              "      <th>split0_test_score</th>\n",
              "      <td>0.347826</td>\n",
              "      <td>0.347826</td>\n",
              "      <td>0.869565</td>\n",
              "      <td>1</td>\n",
              "      <td>1</td>\n",
              "      <td>1</td>\n",
              "      <td>0.347826</td>\n",
              "      <td>0.869565</td>\n",
              "      <td>1</td>\n",
              "      <td>1</td>\n",
              "      <td>1</td>\n",
              "      <td>0.956522</td>\n",
              "    </tr>\n",
              "    <tr>\n",
              "      <th>split1_test_score</th>\n",
              "      <td>0.347826</td>\n",
              "      <td>0.347826</td>\n",
              "      <td>0.826087</td>\n",
              "      <td>0.956522</td>\n",
              "      <td>0.956522</td>\n",
              "      <td>0.956522</td>\n",
              "      <td>0.347826</td>\n",
              "      <td>0.869565</td>\n",
              "      <td>0.913043</td>\n",
              "      <td>0.956522</td>\n",
              "      <td>1</td>\n",
              "      <td>0.956522</td>\n",
              "    </tr>\n",
              "    <tr>\n",
              "      <th>split2_test_score</th>\n",
              "      <td>0.363636</td>\n",
              "      <td>0.363636</td>\n",
              "      <td>0.727273</td>\n",
              "      <td>1</td>\n",
              "      <td>1</td>\n",
              "      <td>0.954545</td>\n",
              "      <td>0.363636</td>\n",
              "      <td>0.772727</td>\n",
              "      <td>1</td>\n",
              "      <td>1</td>\n",
              "      <td>1</td>\n",
              "      <td>1</td>\n",
              "    </tr>\n",
              "    <tr>\n",
              "      <th>split3_test_score</th>\n",
              "      <td>0.363636</td>\n",
              "      <td>0.363636</td>\n",
              "      <td>0.818182</td>\n",
              "      <td>0.909091</td>\n",
              "      <td>0.954545</td>\n",
              "      <td>0.863636</td>\n",
              "      <td>0.363636</td>\n",
              "      <td>0.772727</td>\n",
              "      <td>0.909091</td>\n",
              "      <td>0.954545</td>\n",
              "      <td>0.909091</td>\n",
              "      <td>0.909091</td>\n",
              "    </tr>\n",
              "    <tr>\n",
              "      <th>split4_test_score</th>\n",
              "      <td>0.409091</td>\n",
              "      <td>0.409091</td>\n",
              "      <td>0.863636</td>\n",
              "      <td>0.954545</td>\n",
              "      <td>0.954545</td>\n",
              "      <td>0.954545</td>\n",
              "      <td>0.409091</td>\n",
              "      <td>0.909091</td>\n",
              "      <td>0.954545</td>\n",
              "      <td>0.954545</td>\n",
              "      <td>0.954545</td>\n",
              "      <td>0.954545</td>\n",
              "    </tr>\n",
              "    <tr>\n",
              "      <th>mean_test_score</th>\n",
              "      <td>0.366403</td>\n",
              "      <td>0.366403</td>\n",
              "      <td>0.820949</td>\n",
              "      <td>0.964032</td>\n",
              "      <td>0.973123</td>\n",
              "      <td>0.94585</td>\n",
              "      <td>0.366403</td>\n",
              "      <td>0.838735</td>\n",
              "      <td>0.955336</td>\n",
              "      <td>0.973123</td>\n",
              "      <td>0.972727</td>\n",
              "      <td>0.955336</td>\n",
              "    </tr>\n",
              "    <tr>\n",
              "      <th>std_test_score</th>\n",
              "      <td>0.0224845</td>\n",
              "      <td>0.0224845</td>\n",
              "      <td>0.0509805</td>\n",
              "      <td>0.0339185</td>\n",
              "      <td>0.0219572</td>\n",
              "      <td>0.0446238</td>\n",
              "      <td>0.0224845</td>\n",
              "      <td>0.0557943</td>\n",
              "      <td>0.0397936</td>\n",
              "      <td>0.0219572</td>\n",
              "      <td>0.0363636</td>\n",
              "      <td>0.0287643</td>\n",
              "    </tr>\n",
              "    <tr>\n",
              "      <th>rank_test_score</th>\n",
              "      <td>10</td>\n",
              "      <td>10</td>\n",
              "      <td>9</td>\n",
              "      <td>4</td>\n",
              "      <td>1</td>\n",
              "      <td>7</td>\n",
              "      <td>10</td>\n",
              "      <td>8</td>\n",
              "      <td>5</td>\n",
              "      <td>1</td>\n",
              "      <td>3</td>\n",
              "      <td>5</td>\n",
              "    </tr>\n",
              "  </tbody>\n",
              "</table>\n",
              "</div>"
            ],
            "text/plain": [
              "                                              0   ...                              11\n",
              "mean_fit_time                         0.00170856  ...                      0.00149097\n",
              "std_fit_time                         0.000167427  ...                      0.00103042\n",
              "mean_score_time                      0.000763702  ...                     0.000608301\n",
              "std_score_time                       3.85803e-05  ...                     2.48901e-05\n",
              "param_C                                    0.001  ...                             100\n",
              "param_kernel                                 rbf  ...                          linear\n",
              "params             {'C': 0.001, 'kernel': 'rbf'}  ...  {'C': 100, 'kernel': 'linear'}\n",
              "split0_test_score                       0.347826  ...                        0.956522\n",
              "split1_test_score                       0.347826  ...                        0.956522\n",
              "split2_test_score                       0.363636  ...                               1\n",
              "split3_test_score                       0.363636  ...                        0.909091\n",
              "split4_test_score                       0.409091  ...                        0.954545\n",
              "mean_test_score                         0.366403  ...                        0.955336\n",
              "std_test_score                         0.0224845  ...                       0.0287643\n",
              "rank_test_score                               10  ...                               5\n",
              "\n",
              "[15 rows x 12 columns]"
            ]
          },
          "metadata": {
            "tags": []
          }
        }
      ]
    },
    {
      "cell_type": "markdown",
      "metadata": {
        "id": "jj2YKQramfhW"
      },
      "source": [
        "## Nested cross-validation"
      ]
    },
    {
      "cell_type": "code",
      "metadata": {
        "colab": {
          "base_uri": "https://localhost:8080/"
        },
        "id": "779kKJnil7tE",
        "outputId": "51449453-f2a7-4638-aa1c-2c759ab7cd4d"
      },
      "source": [
        "scores = cross_val_score(GridSearchCV(SVC(), param_grid, cv=5),\n",
        "                         iris.data, iris.target, cv=5)\n",
        "print(\"Cross-validation scores: \", scores)\n",
        "print(\"Mean cross-validation score: \", scores.mean())"
      ],
      "execution_count": 43,
      "outputs": [
        {
          "output_type": "stream",
          "text": [
            "Cross-validation scores:  [0.96666667 1.         0.9        0.93333333 1.        ]\n",
            "Mean cross-validation score:  0.96\n"
          ],
          "name": "stdout"
        }
      ]
    },
    {
      "cell_type": "code",
      "metadata": {
        "id": "_SKe2TLZmGp4"
      },
      "source": [
        "def nested_cv(X, y, inner_cv, outer_cv, Classifier, parameter_grid):\n",
        "    outer_scores = []\n",
        "    # for each split of the data in the outer cross-validation\n",
        "    # (split method returns indices)\n",
        "    for training_samples, test_samples in outer_cv.split(X, y):\n",
        "        # find best parameter using inner cross-validation\n",
        "        best_params = {}\n",
        "        best_score = -np.inf\n",
        "        # iterate over parameters\n",
        "        for parameters in parameter_grid:\n",
        "            # accumulate score over inner splits\n",
        "            cv_scores = []\n",
        "            # iterate over inner cross-validation\n",
        "            for inner_train, inner_test in inner_cv.split(\n",
        "                X[training_samples], y[training_samples]):\n",
        "                # build classifier given parameters and training data\n",
        "                clf = Classifier(**parameters)\n",
        "                clf.fit(X[inner_train], y[inner_train])\n",
        "                # evaluate on inner test set\n",
        "                score = clf.score(X[inner_test], y[inner_test])\n",
        "                cv_scores.append(score)\n",
        "            # compute mean score over inner folds\n",
        "            mean_score = np.mean(cv_scores)\n",
        "            if mean_score > best_score:\n",
        "                # if better than so far, remember parameters\n",
        "                best_params = parameters\n",
        "        # build classifier on best parameters using outer training set\n",
        "        clf = Classifier(**best_params)\n",
        "        clf.fit(X[training_samples], y[training_samples])\n",
        "        # evaluate\n",
        "        outer_scores.append(clf.score(X[test_samples], y[test_samples]))\n",
        "    return np.array(outer_scores)"
      ],
      "execution_count": 45,
      "outputs": []
    },
    {
      "cell_type": "code",
      "metadata": {
        "colab": {
          "base_uri": "https://localhost:8080/"
        },
        "id": "fuM3Im5GnuSo",
        "outputId": "6a07c8b7-50a7-4d06-9e60-47f923a683c2"
      },
      "source": [
        "from sklearn.model_selection import ParameterGrid, StratifiedKFold\n",
        "scores = nested_cv(iris.data, iris.target, StratifiedKFold(5),\n",
        "                   StratifiedKFold(5), SVC, ParameterGrid(param_grid))\n",
        "print(\"Cross-validation scores: {}\".format(scores))"
      ],
      "execution_count": 46,
      "outputs": [
        {
          "output_type": "stream",
          "text": [
            "Cross-validation scores: [1.         1.         0.9        0.93333333 1.        ]\n"
          ],
          "name": "stdout"
        }
      ]
    },
    {
      "cell_type": "markdown",
      "metadata": {
        "id": "yy51krBSonhP"
      },
      "source": [
        "# Evaluation Metrics and Scoring"
      ]
    },
    {
      "cell_type": "markdown",
      "metadata": {
        "id": "Krz6wUyNo518"
      },
      "source": [
        "## Metrics for Binary Classification\n",
        "\n",
        "* most common and conceptually simple application of ML in practice.\n",
        "* for binary classification we often speak of a positive class and a negative class, with the understanding that the positive class is the one we are looking for.\n",
        "\n",
        "### Kinds of errors\n",
        "* Often, accuracy is not a good measure of predictive performance, as the number of\n",
        "mistakes we make does not contain all the information we are interested in.\n",
        "\n",
        "### Imbalanced datasets\n",
        "* types of errors play an important role when one of two classes is much more frequent than the other one (imbalanced datasets or datasets with imbalanced classes)"
      ]
    },
    {
      "cell_type": "code",
      "metadata": {
        "id": "mZ9M9E2npRwy"
      },
      "source": [
        "from sklearn.datasets import load_digits\n",
        "\n",
        "digits = load_digits()\n",
        "y = digits.target == 9\n",
        "\n",
        "X_train, X_test, y_train, y_test = train_test_split(\n",
        "    digits.data, y, random_state=0)"
      ],
      "execution_count": 47,
      "outputs": []
    },
    {
      "cell_type": "markdown",
      "metadata": {
        "id": "a1eYjo2Gpyw9"
      },
      "source": [
        "We can use the DummyClassifier to always predict the majority class (here \"not nine\") to see how uninformative accuracy can be:"
      ]
    },
    {
      "cell_type": "code",
      "metadata": {
        "colab": {
          "base_uri": "https://localhost:8080/"
        },
        "id": "wyYz1gc2px8x",
        "outputId": "b79863a8-367f-4115-d616-4a42908b4709"
      },
      "source": [
        "from sklearn.dummy import DummyClassifier\n",
        "dummy_majority = DummyClassifier(strategy='most_frequent').fit(X_train, y_train)\n",
        "pred_most_frequent = dummy_majority.predict(X_test)\n",
        "print(\"Unique predicted labels: {}\".format(np.unique(pred_most_frequent)))\n",
        "print(\"Test score: {:.2f}\".format(dummy_majority.score(X_test, y_test)))"
      ],
      "execution_count": 48,
      "outputs": [
        {
          "output_type": "stream",
          "text": [
            "Unique predicted labels: [False]\n",
            "Test score: 0.90\n"
          ],
          "name": "stdout"
        }
      ]
    },
    {
      "cell_type": "code",
      "metadata": {
        "colab": {
          "base_uri": "https://localhost:8080/"
        },
        "id": "y9l8xSn8p4L3",
        "outputId": "55cf61a5-0ebe-4389-f3fe-2680bb164c08"
      },
      "source": [
        "from sklearn.tree import DecisionTreeClassifier\n",
        "tree = DecisionTreeClassifier(max_depth=2).fit(X_train, y_train)\n",
        "pred_tree = tree.predict(X_test)\n",
        "print(\"Test score: {:.2f}\".format(tree.score(X_test, y_test)))"
      ],
      "execution_count": 49,
      "outputs": [
        {
          "output_type": "stream",
          "text": [
            "Test score: 0.92\n"
          ],
          "name": "stdout"
        }
      ]
    },
    {
      "cell_type": "code",
      "metadata": {
        "colab": {
          "base_uri": "https://localhost:8080/"
        },
        "id": "npeibQPGqc4L",
        "outputId": "d80e0871-621c-4f48-e468-dfd335dd1839"
      },
      "source": [
        "from sklearn.linear_model import LogisticRegression\n",
        "\n",
        "dummy = DummyClassifier().fit(X_train, y_train) \n",
        "pred_dummy = dummy.predict(X_test)\n",
        "print(\"dummy score: {:.2f}\".format(dummy.score(X_test, y_test)))\n",
        "\n",
        "logreg = LogisticRegression(max_iter=1000, C=0.1).fit(X_train, y_train)\n",
        "pred_logreg = logreg.predict(X_test)\n",
        "print(\"logreg score: {:.2f}\".format(logreg.score(X_test, y_test)))"
      ],
      "execution_count": 53,
      "outputs": [
        {
          "output_type": "stream",
          "text": [
            "/usr/local/lib/python3.7/dist-packages/sklearn/dummy.py:132: FutureWarning: The default value of strategy will change from stratified to prior in 0.24.\n",
            "  \"stratified to prior in 0.24.\", FutureWarning)\n"
          ],
          "name": "stderr"
        },
        {
          "output_type": "stream",
          "text": [
            "dummy score: 0.82\n",
            "logreg score: 0.98\n"
          ],
          "name": "stdout"
        }
      ]
    },
    {
      "cell_type": "markdown",
      "metadata": {
        "id": "g8ewAyhkrHww"
      },
      "source": [
        "### Confusion matrices\n",
        "\n"
      ]
    },
    {
      "cell_type": "code",
      "metadata": {
        "colab": {
          "base_uri": "https://localhost:8080/"
        },
        "id": "q_jBZEhBq2KU",
        "outputId": "4446ec20-ac0f-4105-b72a-8b1ac8916ea1"
      },
      "source": [
        "from sklearn.metrics import confusion_matrix\n",
        "\n",
        "confusion = confusion_matrix(y_test, pred_logreg)\n",
        "print(\"Confusion matrix:\\n{}\".format(confusion))"
      ],
      "execution_count": 54,
      "outputs": [
        {
          "output_type": "stream",
          "text": [
            "Confusion matrix:\n",
            "[[402   1]\n",
            " [  6  41]]\n"
          ],
          "name": "stdout"
        }
      ]
    },
    {
      "cell_type": "code",
      "metadata": {
        "colab": {
          "base_uri": "https://localhost:8080/",
          "height": 492
        },
        "id": "WiKAiu6drJJK",
        "outputId": "51264986-0cf0-4888-db44-c2e3da7cfde5"
      },
      "source": [
        "mglearn.plots.plot_confusion_matrix_illustration()"
      ],
      "execution_count": 55,
      "outputs": [
        {
          "output_type": "display_data",
          "data": {
            "image/png": "[encoded data removed]",
            "text/plain": [
              "<Figure size 576x576 with 1 Axes>"
            ]
          },
          "metadata": {
            "tags": [],
            "needs_background": "light"
          }
        }
      ]
    },
    {
      "cell_type": "code",
      "metadata": {
        "colab": {
          "base_uri": "https://localhost:8080/",
          "height": 270
        },
        "id": "cd0OgbHerZ3e",
        "outputId": "03d85d24-9af2-41f8-99e0-3e8ef1059e5a"
      },
      "source": [
        "mglearn.plots.plot_binary_confusion_matrix()"
      ],
      "execution_count": 56,
      "outputs": [
        {
          "output_type": "display_data",
          "data": {
            "image/png": "[encoded data removed]",
            "text/plain": [
              "<Figure size 432x288 with 1 Axes>"
            ]
          },
          "metadata": {
            "tags": [],
            "needs_background": "light"
          }
        }
      ]
    },
    {
      "cell_type": "code",
      "metadata": {
        "colab": {
          "base_uri": "https://localhost:8080/"
        },
        "id": "Q5Fn1W0hrfck",
        "outputId": "8da821fa-a5ff-4588-8882-40010632a124"
      },
      "source": [
        "print(\"Most frequent class:\")\n",
        "print(confusion_matrix(y_test, pred_most_frequent))\n",
        "print(\"\\nDummy model:\")\n",
        "print(confusion_matrix(y_test, pred_dummy))\n",
        "print(\"\\nDecision Tree:\")\n",
        "print(confusion_matrix(y_test, pred_tree))\n",
        "print(\"\\nLogistic Regression\")\n",
        "print(confusion_matrix(y_test, pred_logreg))"
      ],
      "execution_count": 58,
      "outputs": [
        {
          "output_type": "stream",
          "text": [
            "Most frequent class:\n",
            "[[403   0]\n",
            " [ 47   0]]\n",
            "\n",
            "Dummy model:\n",
            "[[371  32]\n",
            " [ 39   8]]\n",
            "\n",
            "Decision Tree:\n",
            "[[390  13]\n",
            " [ 24  23]]\n",
            "\n",
            "Logistic Regression\n",
            "[[402   1]\n",
            " [  6  41]]\n"
          ],
          "name": "stdout"
        }
      ]
    },
    {
      "cell_type": "markdown",
      "metadata": {
        "id": "k3_jD58BsP6W"
      },
      "source": [
        "This particular variant is also known as the f1-score. As it takes precision and recall\n",
        "into account, it can be a better measure than accuracy on imbalanced binary classification\n",
        "datasets."
      ]
    },
    {
      "cell_type": "code",
      "metadata": {
        "colab": {
          "base_uri": "https://localhost:8080/"
        },
        "id": "-D-IDOmcrybE",
        "outputId": "59eb23bc-9018-4b80-e4ba-92f99cc08af1"
      },
      "source": [
        "from sklearn.metrics import f1_score\n",
        "print(\"f1 score most frequent: {:.2f}\".format(f1_score(y_test, pred_most_frequent)))\n",
        "print(\"f1 score dummy: {:.2f}\".format(f1_score(y_test, pred_dummy)))\n",
        "print(\"f1 score tree: {:.2f}\".format(f1_score(y_test, pred_tree)))\n",
        "print(\"f1 score logistic regression: {:.2f}\".format(\n",
        "    f1_score(y_test, pred_logreg)))"
      ],
      "execution_count": 61,
      "outputs": [
        {
          "output_type": "stream",
          "text": [
            "f1 score most frequent: 0.00\n",
            "f1 score dummy: 0.18\n",
            "f1 score tree: 0.55\n",
            "f1 score logistic regression: 0.92\n"
          ],
          "name": "stdout"
        }
      ]
    },
    {
      "cell_type": "markdown",
      "metadata": {
        "id": "ldHo29s9sywV"
      },
      "source": [
        "If we want a more comprehensive summary of precision, recall, and f1-score, we can\n",
        "use the classification_report convenience function to compute all three at once,\n",
        "and print them in a nice format:"
      ]
    },
    {
      "cell_type": "code",
      "metadata": {
        "colab": {
          "base_uri": "https://localhost:8080/"
        },
        "id": "DWl4L-5Ysm7X",
        "outputId": "d2d064f4-a272-445e-92f5-a861e842a61b"
      },
      "source": [
        "from sklearn.metrics import classification_report\n",
        "print(classification_report(y_test, pred_most_frequent,\n",
        "                            target_names=['not nine', 'nine']))"
      ],
      "execution_count": 64,
      "outputs": [
        {
          "output_type": "stream",
          "text": [
            "              precision    recall  f1-score   support\n",
            "\n",
            "    not nine       0.90      1.00      0.94       403\n",
            "        nine       0.00      0.00      0.00        47\n",
            "\n",
            "    accuracy                           0.90       450\n",
            "   macro avg       0.45      0.50      0.47       450\n",
            "weighted avg       0.80      0.90      0.85       450\n",
            "\n"
          ],
          "name": "stdout"
        },
        {
          "output_type": "stream",
          "text": [
            "/usr/local/lib/python3.7/dist-packages/sklearn/metrics/_classification.py:1272: UndefinedMetricWarning: Precision and F-score are ill-defined and being set to 0.0 in labels with no predicted samples. Use `zero_division` parameter to control this behavior.\n",
            "  _warn_prf(average, modifier, msg_start, len(result))\n"
          ],
          "name": "stderr"
        }
      ]
    },
    {
      "cell_type": "code",
      "metadata": {
        "colab": {
          "base_uri": "https://localhost:8080/"
        },
        "id": "_quefLvqs7d3",
        "outputId": "5e634a12-0f17-467c-f8a0-472342fcb7b3"
      },
      "source": [
        "print(classification_report(y_test, pred_dummy,\n",
        "target_names=[\"not nine\", \"nine\"]))"
      ],
      "execution_count": 65,
      "outputs": [
        {
          "output_type": "stream",
          "text": [
            "              precision    recall  f1-score   support\n",
            "\n",
            "    not nine       0.90      0.92      0.91       403\n",
            "        nine       0.20      0.17      0.18        47\n",
            "\n",
            "    accuracy                           0.84       450\n",
            "   macro avg       0.55      0.55      0.55       450\n",
            "weighted avg       0.83      0.84      0.84       450\n",
            "\n"
          ],
          "name": "stdout"
        }
      ]
    },
    {
      "cell_type": "code",
      "metadata": {
        "colab": {
          "base_uri": "https://localhost:8080/"
        },
        "id": "WT16CqSktH-m",
        "outputId": "46c385a0-9dd0-44c2-954b-6f19acfed56b"
      },
      "source": [
        "print(classification_report(y_test, pred_logreg,\n",
        "target_names=[\"not nine\", \"nine\"]))"
      ],
      "execution_count": 66,
      "outputs": [
        {
          "output_type": "stream",
          "text": [
            "              precision    recall  f1-score   support\n",
            "\n",
            "    not nine       0.99      1.00      0.99       403\n",
            "        nine       0.98      0.87      0.92        47\n",
            "\n",
            "    accuracy                           0.98       450\n",
            "   macro avg       0.98      0.93      0.96       450\n",
            "weighted avg       0.98      0.98      0.98       450\n",
            "\n"
          ],
          "name": "stdout"
        }
      ]
    },
    {
      "cell_type": "markdown",
      "metadata": {
        "id": "g0VsDXMztROp"
      },
      "source": [
        "### Taking uncertainty into account\n",
        "The confusion matrix and the classification report provide a very detailed analysis of\n",
        "a particular set of predictions. However, the predictions themselves already threw\n",
        "away a lot of information that is contained in the model. As we discussed in Chapter\n",
        "2, most classifiers provide a decision_function or a predict_proba method to\n",
        "assess degrees of certainty about predictions. Making predictions can be seen as\n",
        "thresholding the output of decision_function or predict_proba at a certain fixed\n",
        "point—in binary classification we use 0 for the decision function and 0.5 for\n",
        "predict_proba.\n"
      ]
    },
    {
      "cell_type": "code",
      "metadata": {
        "colab": {
          "base_uri": "https://localhost:8080/"
        },
        "id": "pEJYI_UqtJri",
        "outputId": "625040eb-911d-4595-d896-4b93a6637b48"
      },
      "source": [
        "from mglearn.datasets import make_blobs\n",
        "X, y = make_blobs(n_samples=(400, 50), centers=2, cluster_std=[7.0, 2],\n",
        "                  random_state=22)\n",
        "X_train, X_test, y_train, y_test = train_test_split(X, y, random_state=0)\n",
        "svc = SVC(gamma=0.5).fit(X_train, y_train)"
      ],
      "execution_count": 70,
      "outputs": [
        {
          "output_type": "stream",
          "text": [
            "/usr/local/lib/python3.7/dist-packages/sklearn/utils/deprecation.py:87: FutureWarning: Function make_blobs is deprecated; Please import make_blobs directly from scikit-learn\n",
            "  warnings.warn(msg, category=FutureWarning)\n"
          ],
          "name": "stderr"
        }
      ]
    },
    {
      "cell_type": "code",
      "metadata": {
        "colab": {
          "base_uri": "https://localhost:8080/",
          "height": 527
        },
        "id": "qNQp3W0wtWOn",
        "outputId": "97938b52-9577-47f3-961e-891fd2703860"
      },
      "source": [
        "mglearn.plots.plot_decision_threshold()"
      ],
      "execution_count": 71,
      "outputs": [
        {
          "output_type": "display_data",
          "data": {
            "image/png": "[encoded data removed]",
            "text/plain": [
              "<Figure size 1080x576 with 6 Axes>"
            ]
          },
          "metadata": {
            "tags": []
          }
        }
      ]
    },
    {
      "cell_type": "code",
      "metadata": {
        "colab": {
          "base_uri": "https://localhost:8080/"
        },
        "id": "1DC6WUMNtquX",
        "outputId": "01fb8be2-d27a-45e6-aed6-0a7e758a20a7"
      },
      "source": [
        "print(classification_report(y_test, svc.predict(X_test)))"
      ],
      "execution_count": 72,
      "outputs": [
        {
          "output_type": "stream",
          "text": [
            "              precision    recall  f1-score   support\n",
            "\n",
            "           0       0.94      0.88      0.91       104\n",
            "           1       0.20      0.33      0.25         9\n",
            "\n",
            "    accuracy                           0.84       113\n",
            "   macro avg       0.57      0.61      0.58       113\n",
            "weighted avg       0.88      0.84      0.86       113\n",
            "\n"
          ],
          "name": "stdout"
        }
      ]
    },
    {
      "cell_type": "markdown",
      "metadata": {
        "id": "DHrGSIrnuaKE"
      },
      "source": [
        "The predictions generated by svc.predict really do not fulfill this requirement,\n",
        "but we can adjust the predictions to focus on a higher recall of class 1 by\n",
        "changing the decision threshold away from 0. By default, points with a deci\n",
        "sion_function value greater than 0 will be classified as class 1. We want more points\n",
        "to be classified as class 1, so we need to decrease the threshold:"
      ]
    },
    {
      "cell_type": "code",
      "metadata": {
        "id": "UAlLOkWsuAAg"
      },
      "source": [
        "y_pred_lower_threshold = svc.decision_function(X_test) > -.8"
      ],
      "execution_count": 73,
      "outputs": []
    },
    {
      "cell_type": "code",
      "metadata": {
        "colab": {
          "base_uri": "https://localhost:8080/"
        },
        "id": "6GhhfeH_uMmT",
        "outputId": "9393ad54-fc5a-48e3-f248-05f11e2dd684"
      },
      "source": [
        "print(classification_report(y_test, y_pred_lower_threshold))"
      ],
      "execution_count": 74,
      "outputs": [
        {
          "output_type": "stream",
          "text": [
            "              precision    recall  f1-score   support\n",
            "\n",
            "           0       1.00      0.81      0.89       104\n",
            "           1       0.31      1.00      0.47         9\n",
            "\n",
            "    accuracy                           0.82       113\n",
            "   macro avg       0.66      0.90      0.68       113\n",
            "weighted avg       0.95      0.82      0.86       113\n",
            "\n"
          ],
          "name": "stdout"
        }
      ]
    },
    {
      "cell_type": "markdown",
      "metadata": {
        "id": "22CqUw3Nuo3-"
      },
      "source": [
        "Picking a threshold for models that implement the predict_proba method can be\n",
        "easier, as the output of predict_proba is on a fixed 0 to 1 scale, and models probabilities.\n",
        "By default, the threshold of 0.5 means that if the model is more than 50% “sure”\n",
        "that a point is of the positive class, it will be classified as such. Increasing the threshold\n",
        "means that the model needs to be more confident to make a positive decision\n",
        "(and less confident to make a negative decision)."
      ]
    },
    {
      "cell_type": "markdown",
      "metadata": {
        "id": "Z6kL30VSuxr9"
      },
      "source": [
        "### Precision-recall curves and ROC curves\n",
        "\n",
        "As we just discussed, changing the threshold that is used to make a classification decision\n",
        "in a model is a way to adjust the trade-off of precision and recall for a given classifier.\n",
        "Maybe you want to miss less than 10% of positive samples, meaning a desired\n",
        "recall of 90%. This decision depends on the application, and it should be driven by\n",
        "business goals. Once a particular goal is set—say, a particular recall or precision value\n",
        "for a class—a threshold can be set appropriately. It is always possible to set a threshold\n",
        "to fulfill a particular target, like 90% recall. The hard part is to develop a model\n",
        "that still has reasonable precision with this threshold—if you classify everything as\n",
        "positive, you will have 100% recall, but your model will be useless.\n"
      ]
    },
    {
      "cell_type": "code",
      "metadata": {
        "colab": {
          "base_uri": "https://localhost:8080/",
          "height": 327
        },
        "id": "8q6Go9UTu4S4",
        "outputId": "3cead522-08d9-453b-f432-30df0164a28a"
      },
      "source": [
        "from sklearn.metrics import precision_recall_curve\n",
        "precision, recall, thresholds = precision_recall_curve(\n",
        "    y_test, svc.decision_function(X_test))\n",
        "\n",
        "# Use more data points for a smoother curve\n",
        "X, y = make_blobs(n_samples=(4000, 500), centers=2, cluster_std=[7.0, 2],\n",
        "                  random_state=22)\n",
        "X_train, X_test, y_train, y_test = train_test_split(X, y, random_state=0)\n",
        "svc = SVC(gamma=.05).fit(X_train, y_train)\n",
        "precision, recall, thresholds = precision_recall_curve(\n",
        "    y_test, svc.decision_function(X_test))\n",
        "# find threshold closest to zero\n",
        "close_zero = np.argmin(np.abs(thresholds))\n",
        "plt.plot(precision[close_zero], recall[close_zero], 'o', markersize=10,\n",
        "         label='threshold zero', fillstyle='none', c='k', mew=2)\n",
        "\n",
        "plt.plot(precision, recall, label='precision recall curve')\n",
        "plt.xlabel('Precision')\n",
        "plt.ylabel('Recall')"
      ],
      "execution_count": 76,
      "outputs": [
        {
          "output_type": "stream",
          "text": [
            "/usr/local/lib/python3.7/dist-packages/sklearn/utils/deprecation.py:87: FutureWarning: Function make_blobs is deprecated; Please import make_blobs directly from scikit-learn\n",
            "  warnings.warn(msg, category=FutureWarning)\n"
          ],
          "name": "stderr"
        },
        {
          "output_type": "execute_result",
          "data": {
            "text/plain": [
              "Text(0, 0.5, 'Recall')"
            ]
          },
          "metadata": {
            "tags": []
          },
          "execution_count": 76
        },
        {
          "output_type": "display_data",
          "data": {
            "image/png": "[encoded data removed]",
            "text/plain": [
              "<Figure size 432x288 with 1 Axes>"
            ]
          },
          "metadata": {
            "tags": [],
            "needs_background": "light"
          }
        }
      ]
    },
    {
      "cell_type": "code",
      "metadata": {
        "colab": {
          "base_uri": "https://localhost:8080/",
          "height": 295
        },
        "id": "x80yZ8r4vBss",
        "outputId": "494ea080-9d1d-4d39-c3ed-48995eaca06d"
      },
      "source": [
        "from sklearn.ensemble import RandomForestClassifier\n",
        "\n",
        "rf = RandomForestClassifier(n_estimators=100, random_state=0, max_features=2)\n",
        "rf.fit(X_train, y_train)\n",
        "\n",
        "# RandomForestClassifier has predict_proba, but not decision_function\n",
        "precision_rf, recall_rf, thresholds_rf = precision_recall_curve(\n",
        "    y_test, rf.predict_proba(X_test)[:, 1])\n",
        "\n",
        "plt.plot(precision, recall, label=\"svc\")\n",
        "\n",
        "plt.plot(precision[close_zero], recall[close_zero], 'o', markersize=10,\n",
        "         label='threshold zero svc', fillstyle='none', c='k', mew=2)\n",
        "\n",
        "plt.plot(precision_rf, recall_rf, label=\"rf\")\n",
        "\n",
        "close_default_rf = np.argmin(np.abs(thresholds_rf - 0.5))\n",
        "plt.plot(precision_rf[close_default_rf], recall_rf[close_default_rf], '^', c='k', \n",
        "         markersize=10, label=\"threshold 0.5 rf\", fillstyle=\"none\", mew=2)\n",
        "plt.xlabel(\"Precision\")\n",
        "plt.ylabel(\"Recall\")\n",
        "plt.legend(loc=\"best\")"
      ],
      "execution_count": 77,
      "outputs": [
        {
          "output_type": "execute_result",
          "data": {
            "text/plain": [
              "<matplotlib.legend.Legend at 0x7fbefde09710>"
            ]
          },
          "metadata": {
            "tags": []
          },
          "execution_count": 77
        },
        {
          "output_type": "display_data",
          "data": {
            "image/png": "[encoded data removed]",
            "text/plain": [
              "<Figure size 432x288 with 1 Axes>"
            ]
          },
          "metadata": {
            "tags": [],
            "needs_background": "light"
          }
        }
      ]
    },
    {
      "cell_type": "code",
      "metadata": {
        "colab": {
          "base_uri": "https://localhost:8080/"
        },
        "id": "X_CJuRePw3yb",
        "outputId": "b956e2eb-8b9a-4e8c-b9ff-023e7144f688"
      },
      "source": [
        "print(\"f1_score of random forest: {:.3f}\".format(f1_score(y_test, rf.predict(X_test))))\n",
        "print(\"f1_score of svc: {:.3f}\".format(f1_score(y_test, svc.predict(X_test))))"
      ],
      "execution_count": 80,
      "outputs": [
        {
          "output_type": "stream",
          "text": [
            "f1_score of random forest: 0.610\n",
            "f1_score of svc: 0.656\n"
          ],
          "name": "stdout"
        }
      ]
    },
    {
      "cell_type": "markdown",
      "metadata": {
        "id": "irwC1Z0TxyJh"
      },
      "source": [
        "### Receiver operating characteristics (ROC) and AUC\n",
        "There is another tool that is commonly used to analyze the behavior of classifiers at\n",
        "different thresholds: the receiver operating characteristics curve, or ROC curve for\n",
        "short. Similar to the precision-recall curve, the ROC curve considers all possible thresholds for a given classifier, but instead of reporting precision and recall, it shows\n",
        "the false positive rate (FPR) against the true positive rate (TPR).\n"
      ]
    },
    {
      "cell_type": "code",
      "metadata": {
        "colab": {
          "base_uri": "https://localhost:8080/",
          "height": 295
        },
        "id": "DtxerOffxIuT",
        "outputId": "5aa602d0-88e8-42e6-d286-faa58a4f58d6"
      },
      "source": [
        "from sklearn.metrics import roc_curve\n",
        "fpr, tpr, thresholds = roc_curve(y_test, svc.decision_function(X_test))\n",
        "\n",
        "plt.plot(fpr, tpr, label=\"ROC Curve\")\n",
        "plt.xlabel(\"FPR\")\n",
        "plt.ylabel('TPR (recall)')\n",
        "# find threshold closest to zero\n",
        "close_zero = np.argmin(np.abs(thresholds))\n",
        "plt.plot(fpr[close_zero], tpr[close_zero], 'o', markersize=10,\n",
        "         label=\"threshold zero\", fillstyle=\"none\", c=\"k\", mew=2)\n",
        "plt.legend(loc=4)"
      ],
      "execution_count": 81,
      "outputs": [
        {
          "output_type": "execute_result",
          "data": {
            "text/plain": [
              "<matplotlib.legend.Legend at 0x7fbefb5d3c90>"
            ]
          },
          "metadata": {
            "tags": []
          },
          "execution_count": 81
        },
        {
          "output_type": "display_data",
          "data": {
            "image/png": "[encoded data removed]",
            "text/plain": [
              "<Figure size 432x288 with 1 Axes>"
            ]
          },
          "metadata": {
            "tags": [],
            "needs_background": "light"
          }
        }
      ]
    },
    {
      "cell_type": "markdown",
      "metadata": {
        "id": "IneRflppy45A"
      },
      "source": [
        "For the ROC curve, the ideal curve is close to the top left: you want a classifier that\n",
        "produces a high recall while keeping a low false positive rate. Compared to the default\n",
        "threshold of 0, the curve shows that we can achieve a significantly higher recall\n",
        "(around 0.9) while only increasing the FPR slightly. The point closest to the top left\n",
        "might be a better operating point than the one chosen by default. Again, be aware that\n",
        "choosing a threshold should not be done on the test set, but on a separate validation\n",
        "set."
      ]
    },
    {
      "cell_type": "code",
      "metadata": {
        "colab": {
          "base_uri": "https://localhost:8080/",
          "height": 295
        },
        "id": "appSCMVDx419",
        "outputId": "d40ba058-95a4-4bd1-8dea-21979947aee8"
      },
      "source": [
        "from sklearn.metrics import roc_curve\n",
        "fpr_rf, tpr_rf, thresholds_rf = roc_curve(y_test, rf.predict_proba(X_test)[:, 1])\n",
        "\n",
        "plt.plot(fpr, tpr, label=\"ROC Curve SVC\")\n",
        "plt.plot(fpr_rf, tpr_rf, label=\"ROC Curve RF\")\n",
        "\n",
        "plt.xlabel(\"FPR\")\n",
        "plt.ylabel(\"TPR (recall)\")\n",
        "plt.plot(fpr[close_zero], tpr[close_zero], 'o', markersize=10,\n",
        "         label=\"threshold zero SVC\", fillstyle=\"none\", c='k', mew=2)\n",
        "close_default_rf = np.argmin(np.abs(thresholds_rf - 0.5))\n",
        "plt.plot(fpr_rf[close_default_rf], tpr[close_default_rf], '^', markersize=10,\n",
        "         label=\"threshold 0.5 RF\", fillstyle=\"none\", c=\"k\", mew=2)\n",
        "plt.legend(loc=4)"
      ],
      "execution_count": 82,
      "outputs": [
        {
          "output_type": "execute_result",
          "data": {
            "text/plain": [
              "<matplotlib.legend.Legend at 0x7fbefb8c8590>"
            ]
          },
          "metadata": {
            "tags": []
          },
          "execution_count": 82
        },
        {
          "output_type": "display_data",
          "data": {
            "image/png": "[encoded data removed]",
            "text/plain": [
              "<Figure size 432x288 with 1 Axes>"
            ]
          },
          "metadata": {
            "tags": [],
            "needs_background": "light"
          }
        }
      ]
    },
    {
      "cell_type": "code",
      "metadata": {
        "colab": {
          "base_uri": "https://localhost:8080/"
        },
        "id": "ri6JLHhJzmAO",
        "outputId": "a1d5e428-e298-4c80-e711-058c1fea3fd5"
      },
      "source": [
        "from sklearn.metrics import roc_auc_score\n",
        "rf_auc = roc_auc_score(y_test, rf.predict_proba(X_test)[:, 1])\n",
        "svc_auc = roc_auc_score(y_test, svc.decision_function(X_test))\n",
        "print(\"AUC for Random Forest: {:.3f}\".format(rf_auc))\n",
        "print(\"AUC for SVC: {:.3f}\".format(svc_auc))"
      ],
      "execution_count": 83,
      "outputs": [
        {
          "output_type": "stream",
          "text": [
            "AUC for Random Forest: 0.937\n",
            "AUC for SVC: 0.916\n"
          ],
          "name": "stdout"
        }
      ]
    },
    {
      "cell_type": "markdown",
      "metadata": {
        "id": "aZ9Ym0pq1SsH"
      },
      "source": [
        "Comparing the random forest and SVM using the AUC score, we find that the random\n",
        "forest performs quite a bit better than the SVM. Recall that because average precision\n",
        "is the area under a curve that goes from 0 to 1, average precision always returns\n",
        "a value between 0 (worst) and 1 (best). Predicting randomly always produces an AUC\n",
        "of 0.5, no matter how imbalanced the classes in a dataset are. This makes AUC a\n",
        "much better metric for imbalanced classification problems than accuracy. The AUC\n",
        "can be interpreted as evaluating the ranking of positive samples. It’s equivalent to the\n",
        "probability that a randomly picked point of the positive class will have a higher score\n",
        "according to the classifier than a randomly picked point from the negative class. So, a\n",
        "perfect AUC of 1 means that all positive points have a higher score than all negative\n",
        "points. For classification problems with imbalanced classes, using AUC for model\n",
        "selection is often much more meaningful than using accuracy."
      ]
    },
    {
      "cell_type": "code",
      "metadata": {
        "colab": {
          "base_uri": "https://localhost:8080/",
          "height": 343
        },
        "id": "6LqTx80g0iUR",
        "outputId": "63e14ef0-0c52-486f-f5d7-8c9439b29456"
      },
      "source": [
        "y = digits.target == 9\n",
        "\n",
        "X_train, X_test, y_train, y_test = train_test_split(\n",
        "    digits.data, y, random_state=0)\n",
        "\n",
        "plt.figure()\n",
        "\n",
        "for gamma in [1, 0.05, 0.01]:\n",
        "    svc = SVC(gamma=gamma).fit(X_train, y_train)\n",
        "    accuracy = svc.score(X_test, y_test)\n",
        "    auc = roc_auc_score(y_test, svc.decision_function(X_test))\n",
        "    fpr, tpr, _ = roc_curve(y_test, svc.decision_function(X_test))\n",
        "    print(\"gamma = {:.2f} accuracy = {:.2f} AUC = {:.2f}\".format(\n",
        "        gamma, accuracy, auc))\n",
        "    plt.plot(fpr, tpr, label=\"gamma={:.3f}\".format(gamma))\n",
        "plt.xlabel(\"FPR\")\n",
        "plt.ylabel(\"TPR\")\n",
        "plt.xlim(-0.01, 1)\n",
        "plt.ylim(0, 1.02)\n",
        "plt.legend(loc=\"best\")"
      ],
      "execution_count": 84,
      "outputs": [
        {
          "output_type": "stream",
          "text": [
            "gamma = 1.00 accuracy = 0.90 AUC = 0.50\n",
            "gamma = 0.05 accuracy = 0.90 AUC = 1.00\n",
            "gamma = 0.01 accuracy = 0.90 AUC = 1.00\n"
          ],
          "name": "stdout"
        },
        {
          "output_type": "execute_result",
          "data": {
            "text/plain": [
              "<matplotlib.legend.Legend at 0x7fbefb5ad7d0>"
            ]
          },
          "metadata": {
            "tags": []
          },
          "execution_count": 84
        },
        {
          "output_type": "display_data",
          "data": {
            "image/png": "[encoded data removed]",
            "text/plain": [
              "<Figure size 432x288 with 1 Axes>"
            ]
          },
          "metadata": {
            "tags": [],
            "needs_background": "light"
          }
        }
      ]
    },
    {
      "cell_type": "markdown",
      "metadata": {
        "id": "dCUEjRey2GPc"
      },
      "source": [
        "The accuracy of all three settings of gamma is the same, 90%. This might be the same\n",
        "as chance performance, or it might not. Looking at the AUC and the corresponding\n",
        "curve, however, we see a clear distinction between the three models. With gamma=1.0,\n",
        "the AUC is actually at chance level, meaning that the output of the decision_func\n",
        "tion is as good as random. With gamma=0.05, performance drastically improves to an\n",
        "AUC of 0.5. Finally, with gamma=0.01, we get a perfect AUC of 1.0. That means that\n",
        "all positive points are ranked higher than all negative points according to the decision\n",
        "function. In other words, with the right threshold, this model can classify the data\n",
        "perfectly!5 Knowing this, we can adjust the threshold on this model and obtain great\n",
        "predictions. If we had only used accuracy, we would never have discovered this."
      ]
    },
    {
      "cell_type": "markdown",
      "metadata": {
        "id": "d-0hfjsp2IRd"
      },
      "source": [
        "## Metrics for Multiclass Classification"
      ]
    },
    {
      "cell_type": "code",
      "metadata": {
        "colab": {
          "base_uri": "https://localhost:8080/"
        },
        "id": "2Je6I9u51-Rv",
        "outputId": "153137e1-89f2-44a2-bc50-30448a9e13fa"
      },
      "source": [
        "from sklearn.metrics import accuracy_score\n",
        "X_train, X_test, y_train, y_test = train_test_split(\n",
        "    digits.data, digits.target, random_state=0)\n",
        "lr = LogisticRegression(max_iter=10000).fit(X_train, y_train)\n",
        "pred = lr.predict(X_test)\n",
        "print(\"Accuracy: {:.3f}\".format(accuracy_score(y_test, pred)))\n",
        "print(\"Confusion matrix:\\n{}\".format(confusion_matrix(y_test, pred)))"
      ],
      "execution_count": 87,
      "outputs": [
        {
          "output_type": "stream",
          "text": [
            "Accuracy: 0.953\n",
            "Confusion matrix:\n",
            "[[37  0  0  0  0  0  0  0  0  0]\n",
            " [ 0 40  0  0  0  0  0  0  2  1]\n",
            " [ 0  0 41  3  0  0  0  0  0  0]\n",
            " [ 0  0  0 44  0  0  0  0  1  0]\n",
            " [ 0  0  0  0 37  0  0  1  0  0]\n",
            " [ 0  0  0  0  0 46  0  0  0  2]\n",
            " [ 0  1  0  0  0  0 51  0  0  0]\n",
            " [ 0  0  0  1  1  0  0 46  0  0]\n",
            " [ 0  3  1  0  0  0  1  0 43  0]\n",
            " [ 0  0  0  0  0  1  0  0  2 44]]\n"
          ],
          "name": "stdout"
        }
      ]
    },
    {
      "cell_type": "code",
      "metadata": {
        "colab": {
          "base_uri": "https://localhost:8080/",
          "height": 295
        },
        "id": "XsfypIFE2iAr",
        "outputId": "19f8b6e6-a57f-4b05-8a5c-adcaec0083fc"
      },
      "source": [
        "scores_image = mglearn.tools.heatmap(\n",
        "    confusion_matrix(y_test, pred), xlabel=\"Predicted label\",\n",
        "    ylabel=\"True label\", xticklabels=digits.target_names,\n",
        "    yticklabels=digits.target_names, cmap=plt.cm.gray_r, fmt=\"%d\")\n",
        "plt.title(\"Confusion matrix\")\n",
        "plt.gca().invert_yaxis()"
      ],
      "execution_count": 88,
      "outputs": [
        {
          "output_type": "display_data",
          "data": {
            "image/png": "[encoded data removed]",
            "text/plain": [
              "<Figure size 432x288 with 1 Axes>"
            ]
          },
          "metadata": {
            "tags": [],
            "needs_background": "light"
          }
        }
      ]
    },
    {
      "cell_type": "code",
      "metadata": {
        "colab": {
          "base_uri": "https://localhost:8080/"
        },
        "id": "f4TXyOxr3N6r",
        "outputId": "c164e595-a78f-4663-bee8-80dd0b322055"
      },
      "source": [
        "print(classification_report(y_test, pred))"
      ],
      "execution_count": 89,
      "outputs": [
        {
          "output_type": "stream",
          "text": [
            "              precision    recall  f1-score   support\n",
            "\n",
            "           0       1.00      1.00      1.00        37\n",
            "           1       0.91      0.93      0.92        43\n",
            "           2       0.98      0.93      0.95        44\n",
            "           3       0.92      0.98      0.95        45\n",
            "           4       0.97      0.97      0.97        38\n",
            "           5       0.98      0.96      0.97        48\n",
            "           6       0.98      0.98      0.98        52\n",
            "           7       0.98      0.96      0.97        48\n",
            "           8       0.90      0.90      0.90        48\n",
            "           9       0.94      0.94      0.94        47\n",
            "\n",
            "    accuracy                           0.95       450\n",
            "   macro avg       0.95      0.95      0.95       450\n",
            "weighted avg       0.95      0.95      0.95       450\n",
            "\n"
          ],
          "name": "stdout"
        }
      ]
    },
    {
      "cell_type": "markdown",
      "metadata": {
        "id": "-ad-nqUI3gRN"
      },
      "source": [
        "The most commonly used metric for imbalanced datasets in the multiclass setting is\n",
        "the multiclass version of the f-score. The idea behind the multiclass f-score is to compute\n",
        "one binary f-score per class, with that class being the positive class and the other\n",
        "classes making up the negative classes. Then, these per-class f-scores are averaged\n",
        "using one of the following strategies:\n",
        "* \"macro\" averaging computes the unweighted per-class f-scores. This gives equal\n",
        "weight to all classes, no matter what their size is.\n",
        "* \"weighted\" averaging computes the mean of the per-class f-scores, weighted by\n",
        "their support. This is what is reported in the classification report.\n",
        "* \"micro\" averaging computes the total number of false positives, false negatives,\n",
        "and true positives over all"
      ]
    },
    {
      "cell_type": "code",
      "metadata": {
        "colab": {
          "base_uri": "https://localhost:8080/"
        },
        "id": "u9Sy2nHO3Yqr",
        "outputId": "79b10a91-cd2c-4edd-b5e3-54abf8511dd9"
      },
      "source": [
        "print(\"Micro average f1 score: {:.3f}\".format(\n",
        "    f1_score(y_test, pred, average=\"micro\")))\n",
        "print(\"Macro average f1 score: {:.3f}\".format(\n",
        "    f1_score(y_test, pred, average=\"macro\")))"
      ],
      "execution_count": 90,
      "outputs": [
        {
          "output_type": "stream",
          "text": [
            "Micro average f1 score: 0.953\n",
            "Macro average f1 score: 0.954\n"
          ],
          "name": "stdout"
        }
      ]
    },
    {
      "cell_type": "markdown",
      "metadata": {
        "id": "DBXDQXuC34KC"
      },
      "source": [
        "## Regression Metrics\n",
        "\n",
        "Evaluation for regression can be done in similar detail as we did for classification—\n",
        "for example, by analyzing overpredicting the target versus underpredicting the target.\n",
        "However, in most applications we’ve seen, using the default R2 used in the score\n",
        "method of all regressors is enough. Sometimes business decisions are made on the\n",
        "basis of mean squared error or mean absolute error, which might give incentive to\n",
        "tune models using these metrics. In general, though, we have found R2 to be a more\n",
        "intuitive metric to evaluate regression models."
      ]
    },
    {
      "cell_type": "markdown",
      "metadata": {
        "id": "HAUH68G83-YV"
      },
      "source": [
        "## Using Evaluation Metrics in Model Selection\n",
        "\n",
        "We have discussed many evaluation methods in detail, and how to apply them given\n",
        "the ground truth and a model. However, we often want to use metrics like AUC in\n",
        "model selection using GridSearchCV or cross_val_score. Luckily scikit-learn\n",
        "provides a very simple way to achieve this, via the scoring argument that can be used\n",
        "in both GridSearchCV and cross_val_score. You can simply provide a string\n",
        "describing the evaluation metric you want to use. Say, for example, we want to evaluate\n",
        "the SVM classifier on the “nine vs. rest” task on the digits dataset, using the AUC\n",
        "score. Changing the score from the default (accuracy) to AUC can be done by providing\n",
        "\"roc_auc\" as the scoring parameter:"
      ]
    },
    {
      "cell_type": "code",
      "metadata": {
        "colab": {
          "base_uri": "https://localhost:8080/"
        },
        "id": "Q4qdXvoa3j7Y",
        "outputId": "9cc81866-e83a-46a8-86b4-0d59046a135f"
      },
      "source": [
        "# default scoring for classification is accuracy\n",
        "print(\"Default scoring: {}\".format(\n",
        "    cross_val_score(SVC(), digits.data, digits.target == 9)))\n",
        "# providing scoring=\"accuracy\" doesn't change the results\n",
        "explicit_accuracy = cross_val_score(SVC(), digits.data, digits.target == 9, scoring=\"accuracy\")\n",
        "print(\"Explicit accuracy scoring: {}\".format(explicit_accuracy))\n",
        "roc_auc = cross_val_score(SVC(), digits.data, digits.target == 9,\n",
        "                          scoring=\"roc_auc\")\n",
        "print(\"AUC scoring: {}\".format(roc_auc))"
      ],
      "execution_count": 91,
      "outputs": [
        {
          "output_type": "stream",
          "text": [
            "Default scoring: [0.975      0.99166667 1.         0.99442897 0.98050139]\n",
            "Explicit accuracy scoring: [0.975      0.99166667 1.         0.99442897 0.98050139]\n",
            "AUC scoring: [0.99717078 0.99854252 1.         0.999828   0.98400413]\n"
          ],
          "name": "stdout"
        }
      ]
    },
    {
      "cell_type": "markdown",
      "metadata": {
        "id": "bKbddUSW4nAo"
      },
      "source": [
        "Similarly, we can change the metric used to pick the best parameters in Grid\n",
        "SearchCV:"
      ]
    },
    {
      "cell_type": "code",
      "metadata": {
        "colab": {
          "base_uri": "https://localhost:8080/"
        },
        "id": "YB9zzw9W4Elr",
        "outputId": "de26aef6-0c72-40f9-f8bf-07cc2f8d10a4"
      },
      "source": [
        "X_train, X_test, y_train, y_test = train_test_split(\n",
        "    digits.data, digits.target == 9, random_state=0)\n",
        "\n",
        "# we provide a somewhat bad grid to illustrate the point:\n",
        "param_grid = {'gamma': [0.0001, 0.01, 0.1, 1, 10]}\n",
        "# using the default scoring of accuracy:\n",
        "grid = GridSearchCV(SVC(), param_grid=param_grid)\n",
        "grid.fit(X_train, y_train)\n",
        "print(\"Grid-Search with accuracy\")\n",
        "print(\"Best parameters:\", grid.best_params_)\n",
        "print(\"Best cross-validation score (accuracy)): {:.3f}\".format(grid.best_score_))\n",
        "print(\"Test set AUC: {:.3f}\".format(\n",
        "    roc_auc_score(y_test, grid.decision_function(X_test))))\n",
        "print(\"Test set accuracy: {:.3f}\".format(grid.score(X_test, y_test)))"
      ],
      "execution_count": 92,
      "outputs": [
        {
          "output_type": "stream",
          "text": [
            "Grid-Search with accuracy\n",
            "Best parameters: {'gamma': 0.0001}\n",
            "Best cross-validation score (accuracy)): 0.976\n",
            "Test set AUC: 0.992\n",
            "Test set accuracy: 0.973\n"
          ],
          "name": "stdout"
        }
      ]
    },
    {
      "cell_type": "code",
      "metadata": {
        "colab": {
          "base_uri": "https://localhost:8080/"
        },
        "id": "iioMBR_15PkD",
        "outputId": "b6b57939-039c-4214-c360-b6630162deb9"
      },
      "source": [
        "# Using AUC scoring instead:\n",
        "grid = GridSearchCV(SVC(), param_grid=param_grid, scoring=\"roc_auc\")\n",
        "grid.fit(X_train, y_train)\n",
        "print(\"\\nGrid-Search with AUC\")\n",
        "print(\"Best parameters:\", grid.best_params_)\n",
        "print(\"Best cross-validation score (AUC): {:.3f}\".format(grid.best_score_))\n",
        "print(\"Test set AUC: {:.3f}\".format(\n",
        "roc_auc_score(y_test, grid.decision_function(X_test))))\n",
        "print(\"Test set accuracy: {:.3f}\".format(grid.score(X_test, y_test)))"
      ],
      "execution_count": 93,
      "outputs": [
        {
          "output_type": "stream",
          "text": [
            "\n",
            "Grid-Search with AUC\n",
            "Best parameters: {'gamma': 0.01}\n",
            "Best cross-validation score (AUC): 0.998\n",
            "Test set AUC: 1.000\n",
            "Test set accuracy: 1.000\n"
          ],
          "name": "stdout"
        }
      ]
    },
    {
      "cell_type": "code",
      "metadata": {
        "colab": {
          "base_uri": "https://localhost:8080/"
        },
        "id": "X6Gg1AHB5cYR",
        "outputId": "02e29d8c-ddac-4cc1-e317-ed5fc728922f"
      },
      "source": [
        "from sklearn.metrics.scorer import SCORERS\n",
        "print(\"Available scorers:\\n{}\".format(sorted(SCORERS.keys())))"
      ],
      "execution_count": 94,
      "outputs": [
        {
          "output_type": "stream",
          "text": [
            "Available scorers:\n",
            "['accuracy', 'adjusted_mutual_info_score', 'adjusted_rand_score', 'average_precision', 'balanced_accuracy', 'completeness_score', 'explained_variance', 'f1', 'f1_macro', 'f1_micro', 'f1_samples', 'f1_weighted', 'fowlkes_mallows_score', 'homogeneity_score', 'jaccard', 'jaccard_macro', 'jaccard_micro', 'jaccard_samples', 'jaccard_weighted', 'max_error', 'mutual_info_score', 'neg_brier_score', 'neg_log_loss', 'neg_mean_absolute_error', 'neg_mean_gamma_deviance', 'neg_mean_poisson_deviance', 'neg_mean_squared_error', 'neg_mean_squared_log_error', 'neg_median_absolute_error', 'neg_root_mean_squared_error', 'normalized_mutual_info_score', 'precision', 'precision_macro', 'precision_micro', 'precision_samples', 'precision_weighted', 'r2', 'recall', 'recall_macro', 'recall_micro', 'recall_samples', 'recall_weighted', 'roc_auc', 'roc_auc_ovo', 'roc_auc_ovo_weighted', 'roc_auc_ovr', 'roc_auc_ovr_weighted', 'v_measure_score']\n"
          ],
          "name": "stdout"
        }
      ]
    }
  ]
}