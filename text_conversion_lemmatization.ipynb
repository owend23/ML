{
  "nbformat": 4,
  "nbformat_minor": 0,
  "metadata": {
    "colab": {
      "name": "text_conversion_lemmatization.ipynb",
      "provenance": [],
      "authorship_tag": "ABX9TyNjF6Nq+DLV98UKd9Ut6p9p",
      "include_colab_link": true
    },
    "kernelspec": {
      "name": "python3",
      "display_name": "Python 3"
    },
    "language_info": {
      "name": "python"
    }
  },
  "cells": [
    {
      "cell_type": "markdown",
      "metadata": {
        "id": "view-in-github",
        "colab_type": "text"
      },
      "source": [
        "<a href=\"https://colab.research.google.com/github/owend23/ML/blob/main/text_conversion_lemmatization.ipynb\" target=\"_parent\"><img src=\"https://colab.research.google.com/assets/colab-badge.svg\" alt=\"Open In Colab\"/></a>"
      ]
    },
    {
      "cell_type": "code",
      "metadata": {
        "colab": {
          "base_uri": "https://localhost:8080/"
        },
        "id": "HIsEuVLScac-",
        "outputId": "064dd9f7-4d6c-43d6-b8b8-b9c519fb9613"
      },
      "source": [
        "import nltk\n",
        "nltk.download('wordnet')\n",
        "from nltk.stem import WordNetLemmatizer"
      ],
      "execution_count": 1,
      "outputs": [
        {
          "output_type": "stream",
          "text": [
            "[nltk_data] Downloading package wordnet to /root/nltk_data...\n",
            "[nltk_data]   Unzipping corpora/wordnet.zip.\n"
          ],
          "name": "stdout"
        }
      ]
    },
    {
      "cell_type": "code",
      "metadata": {
        "id": "8gfjReMYcfow"
      },
      "source": [
        "words = ['table', 'probably', 'wolves', 'playing', 'is', 'dog', 'the',\n",
        "         'beaches', 'grounded', 'dreamt', 'envision']"
      ],
      "execution_count": 2,
      "outputs": []
    },
    {
      "cell_type": "code",
      "metadata": {
        "id": "kkHQYiFGcps0"
      },
      "source": [
        "# Compare different lemmatizers\n",
        "lemmatizers = ['NOUN LEMMATIZER', 'VERB LEMMATIZER']"
      ],
      "execution_count": 3,
      "outputs": []
    },
    {
      "cell_type": "code",
      "metadata": {
        "id": "W9WB7JEjcul3"
      },
      "source": [
        "# Create the object based on the WordNet lemmatizer:\n",
        "lemmatizer_wordnet = WordNetLemmatizer()"
      ],
      "execution_count": 4,
      "outputs": []
    },
    {
      "cell_type": "code",
      "metadata": {
        "colab": {
          "base_uri": "https://localhost:8080/"
        },
        "id": "rpk3qgQecy3s",
        "outputId": "dcc9aef8-a01f-4bb3-c9dc-2e8c80fde83d"
      },
      "source": [
        "formatted_row = '{:>24}' * (len(lemmatizers) + 1)\n",
        "print('\\n', formatted_row.format(\"WORD\", *lemmatizers), '\\n')\n",
        "for word in words:\n",
        "  lemmatized_words = [lemmatizer_wordnet.lemmatize(word, pos='n'),\n",
        "                      lemmatizer_wordnet.lemmatize(word, pos='v')]\n",
        "  print(formatted_row.format(word, *lemmatized_words))"
      ],
      "execution_count": 6,
      "outputs": [
        {
          "output_type": "stream",
          "text": [
            "\n",
            "                     WORD         NOUN LEMMATIZER         VERB LEMMATIZER \n",
            "\n",
            "                   table                   table                   table\n",
            "                probably                probably                probably\n",
            "                  wolves                    wolf                  wolves\n",
            "                 playing                 playing                    play\n",
            "                      is                      is                      be\n",
            "                     dog                     dog                     dog\n",
            "                     the                     the                     the\n",
            "                 beaches                   beach                   beach\n",
            "                grounded                grounded                  ground\n",
            "                  dreamt                  dreamt                   dream\n",
            "                envision                envision                envision\n"
          ],
          "name": "stdout"
        }
      ]
    },
    {
      "cell_type": "code",
      "metadata": {
        "id": "1mxzWX60c8k1"
      },
      "source": [
        ""
      ],
      "execution_count": null,
      "outputs": []
    }
  ]
}