{
  "nbformat": 4,
  "nbformat_minor": 0,
  "metadata": {
    "colab": {
      "name": "machine_learning_linear_regression_student_grades.ipynb",
      "provenance": [],
      "authorship_tag": "ABX9TyM9fG6JQL93S6xFz8GcszAI",
      "include_colab_link": true
    },
    "kernelspec": {
      "name": "python3",
      "display_name": "Python 3"
    },
    "language_info": {
      "name": "python"
    }
  },
  "cells": [
    {
      "cell_type": "markdown",
      "metadata": {
        "id": "view-in-github",
        "colab_type": "text"
      },
      "source": [
        "<a href=\"https://colab.research.google.com/github/owend23/ML/blob/main/machine_learning_linear_regression_student_grades.ipynb\" target=\"_parent\"><img src=\"https://colab.research.google.com/assets/colab-badge.svg\" alt=\"Open In Colab\"/></a>"
      ]
    },
    {
      "cell_type": "code",
      "metadata": {
        "id": "eyh1OI03sRUf"
      },
      "source": [
        "import pandas as pd\n",
        "import numpy as np\n",
        "import sklearn\n",
        "from sklearn import linear_model\n",
        "from sklearn.utils import shuffle\n",
        "import matplotlib.pyplot as plt\n",
        "import pickle\n",
        "from matplotlib import style"
      ],
      "execution_count": null,
      "outputs": []
    },
    {
      "cell_type": "code",
      "metadata": {
        "id": "I99T5gqGvTsx"
      },
      "source": [
        "data = pd.read_csv('student/student-mat.csv', sep=';')\n",
        "data = data[[\"G1\", \"G2\", \"G3\", \"studytime\", \"failures\", \"absences\"]]"
      ],
      "execution_count": null,
      "outputs": []
    },
    {
      "cell_type": "code",
      "metadata": {
        "colab": {
          "base_uri": "https://localhost:8080/",
          "height": 204
        },
        "id": "znSTv294veh_",
        "outputId": "f93980a7-57f4-4c20-ae13-ebff6d55b5c8"
      },
      "source": [
        "data.head()"
      ],
      "execution_count": null,
      "outputs": [
        {
          "output_type": "execute_result",
          "data": {
            "text/html": [
              "<div>\n",
              "<style scoped>\n",
              "    .dataframe tbody tr th:only-of-type {\n",
              "        vertical-align: middle;\n",
              "    }\n",
              "\n",
              "    .dataframe tbody tr th {\n",
              "        vertical-align: top;\n",
              "    }\n",
              "\n",
              "    .dataframe thead th {\n",
              "        text-align: right;\n",
              "    }\n",
              "</style>\n",
              "<table border=\"1\" class=\"dataframe\">\n",
              "  <thead>\n",
              "    <tr style=\"text-align: right;\">\n",
              "      <th></th>\n",
              "      <th>G1</th>\n",
              "      <th>G2</th>\n",
              "      <th>G3</th>\n",
              "      <th>studytime</th>\n",
              "      <th>failures</th>\n",
              "      <th>absences</th>\n",
              "    </tr>\n",
              "  </thead>\n",
              "  <tbody>\n",
              "    <tr>\n",
              "      <th>0</th>\n",
              "      <td>5</td>\n",
              "      <td>6</td>\n",
              "      <td>6</td>\n",
              "      <td>2</td>\n",
              "      <td>0</td>\n",
              "      <td>6</td>\n",
              "    </tr>\n",
              "    <tr>\n",
              "      <th>1</th>\n",
              "      <td>5</td>\n",
              "      <td>5</td>\n",
              "      <td>6</td>\n",
              "      <td>2</td>\n",
              "      <td>0</td>\n",
              "      <td>4</td>\n",
              "    </tr>\n",
              "    <tr>\n",
              "      <th>2</th>\n",
              "      <td>7</td>\n",
              "      <td>8</td>\n",
              "      <td>10</td>\n",
              "      <td>2</td>\n",
              "      <td>3</td>\n",
              "      <td>10</td>\n",
              "    </tr>\n",
              "    <tr>\n",
              "      <th>3</th>\n",
              "      <td>15</td>\n",
              "      <td>14</td>\n",
              "      <td>15</td>\n",
              "      <td>3</td>\n",
              "      <td>0</td>\n",
              "      <td>2</td>\n",
              "    </tr>\n",
              "    <tr>\n",
              "      <th>4</th>\n",
              "      <td>6</td>\n",
              "      <td>10</td>\n",
              "      <td>10</td>\n",
              "      <td>2</td>\n",
              "      <td>0</td>\n",
              "      <td>4</td>\n",
              "    </tr>\n",
              "  </tbody>\n",
              "</table>\n",
              "</div>"
            ],
            "text/plain": [
              "   G1  G2  G3  studytime  failures  absences\n",
              "0   5   6   6          2         0         6\n",
              "1   5   5   6          2         0         4\n",
              "2   7   8  10          2         3        10\n",
              "3  15  14  15          3         0         2\n",
              "4   6  10  10          2         0         4"
            ]
          },
          "metadata": {
            "tags": []
          },
          "execution_count": 13
        }
      ]
    },
    {
      "cell_type": "code",
      "metadata": {
        "id": "VcbuFUi0v6-Z"
      },
      "source": [
        "predict = \"G3\""
      ],
      "execution_count": null,
      "outputs": []
    },
    {
      "cell_type": "code",
      "metadata": {
        "id": "9fvrrdO5wMvm"
      },
      "source": [
        "X = np.array(data.drop([predict], 1))\n",
        "y = np.array(data[predict])"
      ],
      "execution_count": null,
      "outputs": []
    },
    {
      "cell_type": "code",
      "metadata": {
        "id": "5a_wGYNQws-M"
      },
      "source": [
        "x_train, x_test, y_train, y_test = sklearn.model_selection.train_test_split(X, y, test_size=0.1)"
      ],
      "execution_count": null,
      "outputs": []
    },
    {
      "cell_type": "code",
      "metadata": {
        "colab": {
          "base_uri": "https://localhost:8080/"
        },
        "id": "nfcYQotQzYWg",
        "outputId": "651a2967-b415-4b02-8b03-35d3150777ae"
      },
      "source": [
        "# Code the best fit line\n",
        "linear = linear_model.LinearRegression()\n",
        "\n",
        "linear.fit(x_train, y_train)\n",
        "\n",
        "acc = linear.score(x_test, y_test)\n",
        "# accuracy score\n",
        "print(acc)"
      ],
      "execution_count": null,
      "outputs": [
        {
          "output_type": "stream",
          "text": [
            "0.832709277439374\n"
          ],
          "name": "stdout"
        }
      ]
    },
    {
      "cell_type": "code",
      "metadata": {
        "id": "yvWEfHQc2nWW"
      },
      "source": [
        "with open('student_model.pickle', 'wb') as f:\n",
        "  pickle.dump(linear, f)\n",
        "\n",
        "pickle_in = open(\"student_model.pickle\", \"rb\")\n",
        "linear = pickle.load(pickle_in)"
      ],
      "execution_count": null,
      "outputs": []
    },
    {
      "cell_type": "code",
      "metadata": {
        "colab": {
          "base_uri": "https://localhost:8080/"
        },
        "id": "DmgbSZNRzbcA",
        "outputId": "2c791266-091f-445c-c3a4-1a6fb5b04e20"
      },
      "source": [
        "# m coefficients from y = mx + b\n",
        "print(\"Co: \", linear.coef_)\n",
        "print(\"Linear: \", linear.intercept_)"
      ],
      "execution_count": null,
      "outputs": [
        {
          "output_type": "stream",
          "text": [
            "Co:  [ 0.16796498  0.96543449 -0.18362794 -0.29109304  0.03401863]\n",
            "Linear:  -1.4925864514317588\n"
          ],
          "name": "stdout"
        }
      ]
    },
    {
      "cell_type": "code",
      "metadata": {
        "id": "Ou9M1glp0TS4"
      },
      "source": [
        "# predict outcomes\n",
        "predictions = linear.predict(x_test)"
      ],
      "execution_count": null,
      "outputs": []
    },
    {
      "cell_type": "code",
      "metadata": {
        "colab": {
          "base_uri": "https://localhost:8080/"
        },
        "id": "R8l6K7Rh02RU",
        "outputId": "6b672574-754d-4170-d1ac-2232b2d25478"
      },
      "source": [
        "for x in range(len(predictions)):\n",
        "  print(predictions[x], x_test[x], y_test[x])"
      ],
      "execution_count": null,
      "outputs": [
        {
          "output_type": "stream",
          "text": [
            "8.444936931870352 [8 9 2 0 8] 10\n",
            "12.690722805406057 [13 13  3  0  0] 13\n",
            "9.87811955964541 [12 10  2  0  2] 11\n",
            "4.1792317600597455 [6 5 2 0 6] 6\n",
            "8.796529851558034 [9 9 1 0 8] 10\n",
            "12.283474544457262 [10 13  2  1  6] 13\n",
            "5.850898157369701 [7 7 2 1 2] 7\n",
            "10.60755181099543 [11 11  2  0  0] 10\n",
            "13.85544819731009 [12 14  1  0  0] 15\n",
            "8.14146197265108 [10  9  4  0  0] 0\n",
            "8.461164431043047 [10  9  3  0  4] 9\n",
            "15.64930095412626 [16 15  2  0 10] 15\n",
            "18.52781329055428 [18 18  3  0  5] 19\n",
            "11.234339834715275 [11 12  3  1  4] 11\n",
            "7.180283819927299 [ 8  8  4  0 10] 8\n",
            "11.503442800629577 [12 11  1  0 16] 11\n",
            "6.506295597744437 [ 7  8  2  3 10] 10\n",
            "10.643698608443023 [10 11  2  0  6] 11\n",
            "10.412517244118936 [10 11  4  0 10] 11\n",
            "8.13277171529349 [ 9  9  2  2 11] 9\n",
            "15.377151919153029 [16 15  2  0  2] 15\n",
            "10.775516789777761 [12 11  2  0  0] 12\n",
            "6.9442815824016595 [7 8 4 0 8] 8\n",
            "4.7099613089190075 [7 6 1 2 0] 0\n",
            "8.411540230076431 [ 8  8  1  0 30] 8\n",
            "11.953753173263337 [15 12  2  1  0] 12\n",
            "13.498092700972323 [14 13  1  0  8] 13\n",
            "17.04069273513267 [17 17  4  0  0] 18\n",
            "16.426851165944694 [18 16  3  0  0] 16\n",
            "7.779285603111761 [11  8  2  0  2] 8\n",
            "13.05797868721676 [13 13  1  0  0] 12\n",
            "12.18319346048492 [12 12  2  0 13] 13\n",
            "14.311789710238347 [15 14  2  0  4] 14\n",
            "20.03059680809891 [18 19  1  0 10] 19\n",
            "13.52221094487104 [12 14  3  0  1] 15\n",
            "-0.6684245196431212 [6 0 1 0 0] 0\n",
            "12.362565065238394 [14 12  1  0  3] 12\n",
            "14.02341317609242 [13 14  1  0  0] 13\n",
            "8.563220319158008 [10  9  3  0  7] 9\n",
            "7.275390666764768 [8 8 2 0 2] 8\n"
          ],
          "name": "stdout"
        }
      ]
    },
    {
      "cell_type": "code",
      "metadata": {
        "id": "BDFpVbYa1Cn0"
      },
      "source": [
        ""
      ],
      "execution_count": null,
      "outputs": []
    }
  ]
}