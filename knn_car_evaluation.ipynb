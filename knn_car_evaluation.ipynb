{
  "nbformat": 4,
  "nbformat_minor": 0,
  "metadata": {
    "colab": {
      "name": "knn_car_evaluation.ipynb",
      "provenance": [],
      "authorship_tag": "ABX9TyNzN3+BpdEx1VaaovYTazq/",
      "include_colab_link": true
    },
    "kernelspec": {
      "name": "python3",
      "display_name": "Python 3"
    },
    "language_info": {
      "name": "python"
    }
  },
  "cells": [
    {
      "cell_type": "markdown",
      "metadata": {
        "id": "view-in-github",
        "colab_type": "text"
      },
      "source": [
        "<a href=\"https://colab.research.google.com/github/owend23/ML/blob/main/knn_car_evaluation.ipynb\" target=\"_parent\"><img src=\"https://colab.research.google.com/assets/colab-badge.svg\" alt=\"Open In Colab\"/></a>"
      ]
    },
    {
      "cell_type": "code",
      "metadata": {
        "id": "xZsRvCo6RXsS"
      },
      "source": [
        "import sklearn\n",
        "from sklearn.utils import shuffle\n",
        "from sklearn.neighbors import KNeighborsClassifier\n",
        "import pandas as pd\n",
        "import numpy as np\n",
        "from sklearn import linear_model, preprocessing"
      ],
      "execution_count": 1,
      "outputs": []
    },
    {
      "cell_type": "code",
      "metadata": {
        "colab": {
          "base_uri": "https://localhost:8080/",
          "height": 204
        },
        "id": "2oYVlyZpSWvf",
        "outputId": "be172e55-b9ee-4140-a394-3b06a140d3cd"
      },
      "source": [
        "data = pd.read_csv('car.data')\n",
        "\n",
        "data.head()"
      ],
      "execution_count": 4,
      "outputs": [
        {
          "output_type": "execute_result",
          "data": {
            "text/html": [
              "<div>\n",
              "<style scoped>\n",
              "    .dataframe tbody tr th:only-of-type {\n",
              "        vertical-align: middle;\n",
              "    }\n",
              "\n",
              "    .dataframe tbody tr th {\n",
              "        vertical-align: top;\n",
              "    }\n",
              "\n",
              "    .dataframe thead th {\n",
              "        text-align: right;\n",
              "    }\n",
              "</style>\n",
              "<table border=\"1\" class=\"dataframe\">\n",
              "  <thead>\n",
              "    <tr style=\"text-align: right;\">\n",
              "      <th></th>\n",
              "      <th>buying</th>\n",
              "      <th>maint</th>\n",
              "      <th>door</th>\n",
              "      <th>persons</th>\n",
              "      <th>lug_boot</th>\n",
              "      <th>safety</th>\n",
              "      <th>class</th>\n",
              "    </tr>\n",
              "  </thead>\n",
              "  <tbody>\n",
              "    <tr>\n",
              "      <th>0</th>\n",
              "      <td>vhigh</td>\n",
              "      <td>vhigh</td>\n",
              "      <td>2</td>\n",
              "      <td>2</td>\n",
              "      <td>small</td>\n",
              "      <td>low</td>\n",
              "      <td>unacc</td>\n",
              "    </tr>\n",
              "    <tr>\n",
              "      <th>1</th>\n",
              "      <td>vhigh</td>\n",
              "      <td>vhigh</td>\n",
              "      <td>2</td>\n",
              "      <td>2</td>\n",
              "      <td>small</td>\n",
              "      <td>med</td>\n",
              "      <td>unacc</td>\n",
              "    </tr>\n",
              "    <tr>\n",
              "      <th>2</th>\n",
              "      <td>vhigh</td>\n",
              "      <td>vhigh</td>\n",
              "      <td>2</td>\n",
              "      <td>2</td>\n",
              "      <td>small</td>\n",
              "      <td>high</td>\n",
              "      <td>unacc</td>\n",
              "    </tr>\n",
              "    <tr>\n",
              "      <th>3</th>\n",
              "      <td>vhigh</td>\n",
              "      <td>vhigh</td>\n",
              "      <td>2</td>\n",
              "      <td>2</td>\n",
              "      <td>med</td>\n",
              "      <td>low</td>\n",
              "      <td>unacc</td>\n",
              "    </tr>\n",
              "    <tr>\n",
              "      <th>4</th>\n",
              "      <td>vhigh</td>\n",
              "      <td>vhigh</td>\n",
              "      <td>2</td>\n",
              "      <td>2</td>\n",
              "      <td>med</td>\n",
              "      <td>med</td>\n",
              "      <td>unacc</td>\n",
              "    </tr>\n",
              "  </tbody>\n",
              "</table>\n",
              "</div>"
            ],
            "text/plain": [
              "  buying  maint door persons lug_boot safety  class\n",
              "0  vhigh  vhigh    2       2    small    low  unacc\n",
              "1  vhigh  vhigh    2       2    small    med  unacc\n",
              "2  vhigh  vhigh    2       2    small   high  unacc\n",
              "3  vhigh  vhigh    2       2      med    low  unacc\n",
              "4  vhigh  vhigh    2       2      med    med  unacc"
            ]
          },
          "metadata": {
            "tags": []
          },
          "execution_count": 4
        }
      ]
    },
    {
      "cell_type": "code",
      "metadata": {
        "id": "5e8iNxW9Sb7O"
      },
      "source": [
        "# turn string data into numbers for the model\n",
        "le = preprocessing.LabelEncoder()\n",
        "buying = le.fit_transform(list(data['buying']))\n",
        "maint = le.fit_transform(list(data['maint']))\n",
        "door = le.fit_transform(list(data['door']))\n",
        "persons = le.fit_transform(list(data['persons']))\n",
        "lug_boot = le.fit_transform(list(data['lug_boot']))\n",
        "safety = le.fit_transform(list(data['safety']))\n",
        "cls = le.fit_transform(list(data['class']))"
      ],
      "execution_count": 6,
      "outputs": []
    },
    {
      "cell_type": "code",
      "metadata": {
        "id": "lTvWvzitTwtM"
      },
      "source": [
        "# Generate X and y (predict) data based on what you are trying to predict\n",
        "predict = \"class\"\n",
        "\n",
        "X = list(zip(buying, maint, door, persons, lug_boot, safety))\n",
        "y = list(cls)"
      ],
      "execution_count": 12,
      "outputs": []
    },
    {
      "cell_type": "code",
      "metadata": {
        "id": "0MjjQr8IUAbn"
      },
      "source": [
        "x_train, x_test, y_train, y_test = sklearn.model_selection.train_test_split(X, y, test_size=0.1)"
      ],
      "execution_count": 13,
      "outputs": []
    },
    {
      "cell_type": "markdown",
      "metadata": {
        "id": "M2TkrCV1WEme"
      },
      "source": [
        "K = 3 : finds the three nearest plot points and classifies that point to the same classification\n",
        "\n",
        "P1 (X1, y1)\n",
        "P2 (X2, y2)\n",
        "\n",
        "find the magnitude of the line with euclidean distance:\n",
        "* finds the absolute difference\n",
        "* d = sqrt((X2-X1)** 2 + (y2-y1)** 2))\n",
        "* this gives us the absolute distance between point"
      ]
    },
    {
      "cell_type": "code",
      "metadata": {
        "colab": {
          "base_uri": "https://localhost:8080/"
        },
        "id": "KXkADMcaUcZn",
        "outputId": "5af8f857-2955-4809-83c0-7f3a4e7359b0"
      },
      "source": [
        "# instantiate model with param K or nearest neighbors\n",
        "model = KNeighborsClassifier(n_neighbors=9)\n",
        "\n",
        "model.fit(x_train, y_train)\n",
        "acc = model.score(x_test, y_test)\n",
        "\n",
        "print(acc)"
      ],
      "execution_count": 19,
      "outputs": [
        {
          "output_type": "stream",
          "text": [
            "0.9364161849710982\n"
          ],
          "name": "stdout"
        }
      ]
    },
    {
      "cell_type": "code",
      "metadata": {
        "colab": {
          "base_uri": "https://localhost:8080/"
        },
        "id": "zVoQxqriYbj_",
        "outputId": "af20adab-4fd0-4975-b5d6-ec4898e36ebd"
      },
      "source": [
        "predicted = model.predict(x_test)\n",
        "names = [\"unacc\", \"acc\", \"good\", \"vgood\"]\n",
        "\n",
        "for x in range(len(predicted)):\n",
        "  print(\"Predicted: \", names[predicted[x]], \"Data: \", x_test[x], \"Actual: \", names[y_test[x]])\n",
        "  #n = model.kneighbors([x_test[x]], 9, True)\n",
        "  #print(\"N: \", n)"
      ],
      "execution_count": 25,
      "outputs": [
        {
          "output_type": "stream",
          "text": [
            "Predicted:  good Data:  (3, 3, 3, 0, 0, 0) Actual:  good\n",
            "Predicted:  good Data:  (2, 3, 3, 1, 2, 1) Actual:  good\n",
            "Predicted:  good Data:  (1, 1, 3, 0, 0, 2) Actual:  good\n",
            "Predicted:  good Data:  (3, 3, 0, 2, 0, 1) Actual:  good\n",
            "Predicted:  unacc Data:  (0, 1, 2, 2, 1, 2) Actual:  unacc\n",
            "Predicted:  good Data:  (1, 3, 2, 0, 0, 2) Actual:  good\n",
            "Predicted:  good Data:  (0, 0, 3, 0, 0, 2) Actual:  good\n",
            "Predicted:  good Data:  (1, 2, 0, 0, 2, 2) Actual:  good\n",
            "Predicted:  good Data:  (0, 3, 1, 0, 2, 2) Actual:  good\n",
            "Predicted:  good Data:  (3, 0, 1, 0, 0, 1) Actual:  good\n",
            "Predicted:  vgood Data:  (2, 1, 1, 1, 1, 0) Actual:  acc\n",
            "Predicted:  good Data:  (0, 3, 3, 1, 0, 2) Actual:  good\n",
            "Predicted:  good Data:  (0, 3, 0, 0, 1, 1) Actual:  good\n",
            "Predicted:  vgood Data:  (2, 2, 1, 1, 0, 0) Actual:  vgood\n",
            "Predicted:  good Data:  (1, 2, 2, 0, 1, 0) Actual:  good\n",
            "Predicted:  good Data:  (0, 2, 2, 1, 2, 1) Actual:  good\n",
            "Predicted:  good Data:  (0, 1, 2, 1, 1, 1) Actual:  good\n",
            "Predicted:  good Data:  (1, 2, 1, 0, 0, 0) Actual:  good\n",
            "Predicted:  good Data:  (2, 2, 0, 0, 2, 0) Actual:  good\n",
            "Predicted:  good Data:  (0, 2, 2, 1, 0, 0) Actual:  unacc\n",
            "Predicted:  good Data:  (1, 2, 3, 0, 2, 2) Actual:  good\n",
            "Predicted:  vgood Data:  (2, 1, 2, 2, 1, 0) Actual:  vgood\n",
            "Predicted:  good Data:  (2, 2, 3, 2, 1, 1) Actual:  good\n",
            "Predicted:  good Data:  (0, 3, 3, 0, 1, 2) Actual:  good\n",
            "Predicted:  good Data:  (1, 0, 1, 0, 0, 0) Actual:  good\n",
            "Predicted:  good Data:  (2, 2, 1, 0, 1, 2) Actual:  good\n",
            "Predicted:  good Data:  (2, 3, 0, 2, 1, 2) Actual:  good\n",
            "Predicted:  good Data:  (1, 3, 1, 2, 2, 1) Actual:  good\n",
            "Predicted:  unacc Data:  (2, 1, 2, 2, 2, 2) Actual:  unacc\n",
            "Predicted:  good Data:  (2, 1, 3, 1, 2, 1) Actual:  good\n",
            "Predicted:  good Data:  (3, 0, 0, 0, 0, 2) Actual:  good\n",
            "Predicted:  unacc Data:  (0, 1, 1, 1, 0, 2) Actual:  unacc\n",
            "Predicted:  good Data:  (1, 2, 2, 2, 2, 1) Actual:  good\n",
            "Predicted:  good Data:  (3, 1, 3, 1, 1, 1) Actual:  good\n",
            "Predicted:  good Data:  (0, 3, 0, 0, 0, 1) Actual:  good\n",
            "Predicted:  good Data:  (2, 0, 1, 0, 2, 1) Actual:  good\n",
            "Predicted:  good Data:  (0, 3, 2, 1, 2, 1) Actual:  good\n",
            "Predicted:  good Data:  (1, 2, 3, 0, 1, 1) Actual:  good\n",
            "Predicted:  good Data:  (0, 3, 2, 2, 1, 0) Actual:  good\n",
            "Predicted:  unacc Data:  (1, 3, 2, 2, 2, 0) Actual:  unacc\n",
            "Predicted:  good Data:  (3, 0, 2, 0, 2, 0) Actual:  good\n",
            "Predicted:  good Data:  (2, 2, 2, 0, 2, 1) Actual:  good\n",
            "Predicted:  good Data:  (0, 3, 2, 2, 1, 1) Actual:  good\n",
            "Predicted:  good Data:  (2, 1, 0, 1, 2, 1) Actual:  good\n",
            "Predicted:  good Data:  (0, 3, 3, 1, 1, 0) Actual:  good\n",
            "Predicted:  unacc Data:  (3, 1, 1, 1, 1, 0) Actual:  unacc\n",
            "Predicted:  unacc Data:  (1, 0, 1, 2, 1, 0) Actual:  vgood\n",
            "Predicted:  good Data:  (0, 0, 2, 1, 0, 1) Actual:  good\n",
            "Predicted:  good Data:  (0, 1, 3, 0, 0, 1) Actual:  good\n",
            "Predicted:  good Data:  (2, 1, 3, 1, 1, 1) Actual:  good\n",
            "Predicted:  good Data:  (1, 3, 1, 1, 2, 2) Actual:  good\n",
            "Predicted:  good Data:  (2, 3, 3, 1, 1, 1) Actual:  good\n",
            "Predicted:  good Data:  (0, 3, 0, 2, 0, 2) Actual:  good\n",
            "Predicted:  good Data:  (3, 0, 2, 0, 1, 2) Actual:  good\n",
            "Predicted:  good Data:  (3, 2, 3, 0, 1, 0) Actual:  good\n",
            "Predicted:  good Data:  (3, 0, 0, 2, 0, 1) Actual:  good\n",
            "Predicted:  good Data:  (1, 3, 3, 0, 1, 0) Actual:  good\n",
            "Predicted:  good Data:  (3, 2, 1, 0, 1, 1) Actual:  good\n",
            "Predicted:  good Data:  (3, 0, 3, 2, 0, 1) Actual:  good\n",
            "Predicted:  good Data:  (1, 3, 0, 1, 0, 2) Actual:  unacc\n",
            "Predicted:  good Data:  (2, 3, 2, 0, 0, 2) Actual:  good\n",
            "Predicted:  good Data:  (1, 0, 0, 0, 1, 0) Actual:  good\n",
            "Predicted:  unacc Data:  (1, 2, 2, 1, 1, 2) Actual:  acc\n",
            "Predicted:  unacc Data:  (2, 0, 2, 1, 0, 0) Actual:  unacc\n",
            "Predicted:  good Data:  (1, 3, 1, 2, 1, 1) Actual:  good\n",
            "Predicted:  good Data:  (0, 2, 0, 0, 0, 1) Actual:  good\n",
            "Predicted:  good Data:  (3, 0, 3, 1, 0, 0) Actual:  good\n",
            "Predicted:  good Data:  (1, 3, 3, 0, 0, 2) Actual:  good\n",
            "Predicted:  good Data:  (1, 2, 3, 0, 1, 0) Actual:  good\n",
            "Predicted:  unacc Data:  (3, 2, 2, 1, 0, 2) Actual:  unacc\n",
            "Predicted:  good Data:  (0, 3, 1, 2, 2, 0) Actual:  good\n",
            "Predicted:  unacc Data:  (1, 2, 0, 1, 1, 0) Actual:  acc\n",
            "Predicted:  unacc Data:  (2, 0, 1, 2, 0, 2) Actual:  unacc\n",
            "Predicted:  good Data:  (1, 0, 3, 1, 0, 1) Actual:  good\n",
            "Predicted:  unacc Data:  (1, 2, 1, 2, 2, 2) Actual:  unacc\n",
            "Predicted:  good Data:  (0, 1, 1, 2, 1, 1) Actual:  good\n",
            "Predicted:  good Data:  (1, 1, 0, 0, 0, 1) Actual:  good\n",
            "Predicted:  good Data:  (2, 3, 1, 0, 2, 1) Actual:  good\n",
            "Predicted:  unacc Data:  (3, 1, 3, 2, 1, 0) Actual:  unacc\n",
            "Predicted:  good Data:  (0, 3, 3, 2, 2, 1) Actual:  good\n",
            "Predicted:  good Data:  (3, 2, 2, 2, 1, 1) Actual:  good\n",
            "Predicted:  good Data:  (1, 0, 2, 0, 0, 0) Actual:  good\n",
            "Predicted:  acc Data:  (1, 2, 2, 1, 0, 2) Actual:  acc\n",
            "Predicted:  good Data:  (0, 3, 2, 1, 1, 2) Actual:  good\n",
            "Predicted:  good Data:  (1, 1, 3, 0, 1, 2) Actual:  good\n",
            "Predicted:  unacc Data:  (0, 0, 2, 1, 1, 0) Actual:  unacc\n",
            "Predicted:  acc Data:  (2, 1, 3, 2, 0, 2) Actual:  acc\n",
            "Predicted:  good Data:  (2, 2, 1, 0, 0, 0) Actual:  good\n",
            "Predicted:  vgood Data:  (1, 2, 3, 2, 1, 0) Actual:  vgood\n",
            "Predicted:  good Data:  (0, 0, 3, 0, 1, 0) Actual:  good\n",
            "Predicted:  good Data:  (1, 2, 1, 2, 0, 1) Actual:  good\n",
            "Predicted:  good Data:  (2, 0, 1, 1, 1, 1) Actual:  good\n",
            "Predicted:  good Data:  (3, 3, 1, 1, 2, 0) Actual:  good\n",
            "Predicted:  unacc Data:  (1, 0, 0, 2, 1, 0) Actual:  unacc\n",
            "Predicted:  unacc Data:  (0, 1, 3, 1, 0, 0) Actual:  unacc\n",
            "Predicted:  unacc Data:  (1, 3, 2, 1, 0, 0) Actual:  unacc\n",
            "Predicted:  good Data:  (0, 3, 3, 0, 0, 2) Actual:  good\n",
            "Predicted:  good Data:  (3, 2, 0, 2, 1, 2) Actual:  good\n",
            "Predicted:  good Data:  (2, 3, 0, 1, 1, 1) Actual:  good\n",
            "Predicted:  unacc Data:  (0, 1, 2, 1, 0, 0) Actual:  unacc\n",
            "Predicted:  good Data:  (2, 1, 3, 0, 1, 0) Actual:  good\n",
            "Predicted:  good Data:  (1, 2, 0, 0, 1, 0) Actual:  good\n",
            "Predicted:  good Data:  (1, 1, 0, 2, 0, 1) Actual:  good\n",
            "Predicted:  good Data:  (2, 2, 1, 1, 1, 1) Actual:  good\n",
            "Predicted:  good Data:  (0, 2, 1, 1, 0, 1) Actual:  good\n",
            "Predicted:  good Data:  (3, 0, 0, 1, 1, 1) Actual:  good\n",
            "Predicted:  good Data:  (3, 3, 2, 1, 0, 0) Actual:  good\n",
            "Predicted:  good Data:  (1, 2, 2, 0, 2, 1) Actual:  good\n",
            "Predicted:  good Data:  (3, 3, 0, 1, 0, 0) Actual:  good\n",
            "Predicted:  good Data:  (1, 0, 1, 2, 2, 2) Actual:  unacc\n",
            "Predicted:  good Data:  (0, 2, 0, 0, 0, 2) Actual:  good\n",
            "Predicted:  unacc Data:  (1, 2, 2, 2, 2, 2) Actual:  unacc\n",
            "Predicted:  unacc Data:  (1, 3, 1, 1, 0, 2) Actual:  unacc\n",
            "Predicted:  good Data:  (3, 0, 1, 0, 1, 2) Actual:  good\n",
            "Predicted:  good Data:  (3, 2, 3, 0, 2, 2) Actual:  good\n",
            "Predicted:  unacc Data:  (2, 3, 3, 2, 1, 0) Actual:  unacc\n",
            "Predicted:  good Data:  (1, 2, 0, 2, 2, 1) Actual:  good\n",
            "Predicted:  good Data:  (2, 0, 1, 0, 1, 2) Actual:  good\n",
            "Predicted:  unacc Data:  (1, 2, 3, 2, 2, 0) Actual:  acc\n",
            "Predicted:  good Data:  (0, 3, 3, 2, 1, 2) Actual:  good\n",
            "Predicted:  unacc Data:  (0, 2, 1, 2, 0, 0) Actual:  unacc\n",
            "Predicted:  good Data:  (2, 0, 2, 0, 0, 0) Actual:  good\n",
            "Predicted:  good Data:  (0, 1, 1, 1, 2, 2) Actual:  good\n",
            "Predicted:  unacc Data:  (0, 0, 3, 1, 0, 0) Actual:  unacc\n",
            "Predicted:  vgood Data:  (2, 2, 0, 1, 0, 0) Actual:  vgood\n",
            "Predicted:  good Data:  (0, 3, 1, 1, 0, 0) Actual:  good\n",
            "Predicted:  good Data:  (3, 2, 3, 1, 0, 1) Actual:  good\n",
            "Predicted:  good Data:  (1, 0, 0, 0, 1, 1) Actual:  good\n",
            "Predicted:  good Data:  (3, 3, 1, 0, 0, 0) Actual:  good\n",
            "Predicted:  vgood Data:  (1, 2, 2, 1, 0, 0) Actual:  vgood\n",
            "Predicted:  unacc Data:  (0, 0, 2, 1, 2, 0) Actual:  unacc\n",
            "Predicted:  good Data:  (3, 2, 1, 0, 2, 0) Actual:  good\n",
            "Predicted:  acc Data:  (1, 1, 0, 1, 1, 0) Actual:  acc\n",
            "Predicted:  good Data:  (3, 1, 0, 1, 1, 1) Actual:  good\n",
            "Predicted:  good Data:  (0, 1, 2, 1, 2, 1) Actual:  good\n",
            "Predicted:  unacc Data:  (0, 1, 3, 1, 2, 0) Actual:  unacc\n",
            "Predicted:  good Data:  (1, 2, 0, 1, 2, 0) Actual:  acc\n",
            "Predicted:  good Data:  (0, 1, 3, 2, 2, 1) Actual:  good\n",
            "Predicted:  good Data:  (0, 3, 3, 2, 2, 2) Actual:  good\n",
            "Predicted:  good Data:  (3, 1, 1, 0, 2, 1) Actual:  good\n",
            "Predicted:  vgood Data:  (1, 1, 3, 1, 0, 0) Actual:  vgood\n",
            "Predicted:  good Data:  (1, 2, 1, 1, 1, 1) Actual:  good\n",
            "Predicted:  vgood Data:  (1, 0, 2, 1, 1, 0) Actual:  vgood\n",
            "Predicted:  good Data:  (1, 0, 1, 1, 2, 1) Actual:  good\n",
            "Predicted:  good Data:  (2, 3, 3, 0, 2, 0) Actual:  good\n",
            "Predicted:  good Data:  (3, 3, 3, 2, 0, 0) Actual:  good\n",
            "Predicted:  good Data:  (1, 0, 3, 0, 2, 0) Actual:  good\n",
            "Predicted:  good Data:  (2, 2, 3, 1, 1, 1) Actual:  good\n",
            "Predicted:  unacc Data:  (2, 0, 3, 1, 1, 0) Actual:  unacc\n",
            "Predicted:  good Data:  (0, 0, 1, 1, 0, 1) Actual:  good\n",
            "Predicted:  good Data:  (2, 3, 1, 1, 2, 2) Actual:  good\n",
            "Predicted:  good Data:  (2, 3, 3, 1, 2, 2) Actual:  good\n",
            "Predicted:  good Data:  (2, 1, 3, 0, 0, 2) Actual:  good\n",
            "Predicted:  unacc Data:  (1, 2, 3, 1, 2, 2) Actual:  unacc\n",
            "Predicted:  good Data:  (3, 0, 2, 2, 0, 2) Actual:  good\n",
            "Predicted:  good Data:  (1, 2, 3, 2, 2, 1) Actual:  good\n",
            "Predicted:  good Data:  (1, 3, 0, 2, 0, 1) Actual:  good\n",
            "Predicted:  good Data:  (2, 1, 0, 2, 1, 2) Actual:  unacc\n",
            "Predicted:  good Data:  (3, 3, 1, 1, 2, 2) Actual:  good\n",
            "Predicted:  good Data:  (3, 2, 2, 1, 1, 2) Actual:  unacc\n",
            "Predicted:  unacc Data:  (1, 1, 3, 2, 2, 2) Actual:  unacc\n",
            "Predicted:  good Data:  (0, 1, 2, 0, 2, 2) Actual:  good\n",
            "Predicted:  good Data:  (2, 1, 2, 0, 2, 1) Actual:  good\n",
            "Predicted:  good Data:  (3, 2, 3, 2, 0, 1) Actual:  good\n",
            "Predicted:  good Data:  (0, 3, 0, 0, 1, 2) Actual:  good\n",
            "Predicted:  good Data:  (1, 0, 3, 1, 2, 1) Actual:  good\n",
            "Predicted:  good Data:  (0, 2, 2, 0, 1, 2) Actual:  good\n",
            "Predicted:  good Data:  (0, 3, 1, 2, 0, 2) Actual:  good\n",
            "Predicted:  good Data:  (2, 3, 0, 0, 0, 0) Actual:  good\n",
            "Predicted:  good Data:  (0, 1, 2, 1, 2, 2) Actual:  good\n",
            "Predicted:  good Data:  (1, 0, 0, 0, 2, 2) Actual:  good\n",
            "Predicted:  acc Data:  (2, 1, 1, 1, 2, 0) Actual:  acc\n",
            "Predicted:  unacc Data:  (0, 0, 3, 2, 0, 2) Actual:  unacc\n"
          ],
          "name": "stdout"
        }
      ]
    },
    {
      "cell_type": "code",
      "metadata": {
        "id": "C9ERJgF_apk1"
      },
      "source": [
        ""
      ],
      "execution_count": null,
      "outputs": []
    }
  ]
}